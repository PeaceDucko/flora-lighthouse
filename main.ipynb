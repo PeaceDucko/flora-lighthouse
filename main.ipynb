{
 "cells": [
  {
   "cell_type": "code",
   "execution_count": 1,
   "metadata": {
    "collapsed": true
   },
   "outputs": [],
   "source": [
    "import os\n",
    "import pandas as pd\n",
    "import numpy as np\n",
    "from sklearn.mixture import GaussianMixture\n",
    "from sklearn.model_selection import train_test_split\n",
    "from sklearn.metrics import accuracy_score"
   ]
  },
  {
   "cell_type": "code",
   "execution_count": 6,
   "outputs": [],
   "source": [
    "BasePath = \"data/Example/\""
   ],
   "metadata": {
    "collapsed": false,
    "pycharm": {
     "name": "#%%\n"
    }
   }
  },
  {
   "cell_type": "code",
   "execution_count": 7,
   "outputs": [
    {
     "name": "stdout",
     "output_type": "stream",
     "text": [
      "['essay (during learning)', 'knowledge test (posttest)', 'knowledge test (pretest)', 'metacognitive knowledge test (pretest)', 'process labels (during learning)', 'transfer test (posttest)']\n",
      "['Deel 4-Vragenlijst C -cijfers.csv']\n"
     ]
    }
   ],
   "source": [
    "Files = os.listdir(BasePath)\n",
    "print(Files)\n",
    "TestFile = os.listdir(BasePath + Files[1])\n",
    "print(TestFile)"
   ],
   "metadata": {
    "collapsed": false,
    "pycharm": {
     "name": "#%%\n"
    }
   }
  },
  {
   "cell_type": "code",
   "execution_count": 9,
   "outputs": [],
   "source": [
    "def clean_data(X, extra_columns = []):\n",
    "    print(X.head())\n",
    "    X.drop(X[X['Status'] != 'Beëindigd'].index, inplace = True)\n",
    "    # Add Gebruikte tijd later again.\n",
    "    cols = ['E-mailadres', 'Voornaam', 'Achternaam', 'Status', 'Gestart op', 'Voltooid', 'Gebruikte tijd']\n",
    "\n",
    "    if extra_columns:\n",
    "        for i in extra_columns:\n",
    "            cols.append(i)\n",
    "\n",
    "    X.drop(columns= cols, inplace = True)\n",
    "    # I hate everything about this line\n",
    "    X = X.replace(',','.', regex=True).replace('-', '0', regex=True).astype(float).astype(int)\n",
    "    return X\n",
    "\n",
    "def group_y(Y, total_options_of_y):\n",
    "    val = int(total_options_of_y/3)\n",
    "    print(len(Y))\n",
    "    print(type(Y))\n",
    "    for i, y in Y.items():\n",
    "        if y <= val :\n",
    "            Y[i] = 0\n",
    "        elif y >= val and y <= (val*2):\n",
    "            Y[i] = 1\n",
    "        elif y >= (val*2):\n",
    "            Y[i] = 2\n",
    "    return Y"
   ],
   "metadata": {
    "collapsed": false,
    "pycharm": {
     "name": "#%%\n"
    }
   }
  },
  {
   "cell_type": "code",
   "execution_count": 10,
   "outputs": [],
   "source": [
    "def split_data(x_data, y_data, test_size):\n",
    "    X_train, X_test, y_train, y_test = train_test_split(x_data, y_data, test_size=test_size)\n",
    "    return X_train, X_test, y_train, y_test\n",
    "\n",
    "def getXY(dataset, exclude):\n",
    "    X = dataset.drop([exclude], axis=1)\n",
    "    Y = dataset[exclude]\n",
    "\n",
    "    return X, Y\n",
    "\n",
    "def get_accuracy(Model, X, Y):\n",
    "    predict_list = Model.predict(X)\n",
    "\n",
    "    accuracy = accuracy_score(Y, predict_list)\n",
    "\n",
    "    return accuracy, predict_list"
   ],
   "metadata": {
    "collapsed": false,
    "pycharm": {
     "name": "#%%\n"
    }
   }
  },
  {
   "cell_type": "code",
   "execution_count": 14,
   "outputs": [
    {
     "name": "stdout",
     "output_type": "stream",
     "text": [
      "             Achternaam Voornaam             E-mailadres     Status  \\\n",
      "0                    GE  fsp4232   fsp4232@localhost.com  Beëindigd   \n",
      "1                    GE  fsp4230   fsp4230@localhost.com  Beëindigd   \n",
      "2                    GE  fsp4228   fsp4228@localhost.com  Beëindigd   \n",
      "3                    GE  fsp4227   fsp4227@localhost.com      Bezig   \n",
      "4                    GE  fsp4226   fsp4226@localhost.com  Beëindigd   \n",
      "5                    GE  fsp4223   fsp4223@localhost.com  Beëindigd   \n",
      "6                    GE  fsp4222   fsp4222@localhost.com  Beëindigd   \n",
      "7                    GE  fsp4221   fsp4221@localhost.com  Beëindigd   \n",
      "8                    GE  fsp4220   fsp4220@localhost.com  Beëindigd   \n",
      "9                    GE  fsp4219   fsp4219@localhost.com  Beëindigd   \n",
      "10                   GE  fsp4217   fsp4217@localhost.com  Beëindigd   \n",
      "11                   GE  fsp4216   fsp4216@localhost.com  Beëindigd   \n",
      "12                   GE  fsp4215   fsp4215@localhost.com  Beëindigd   \n",
      "13                   GE  fsp4214   fsp4214@localhost.com  Beëindigd   \n",
      "14                   GE  fsp4213   fsp4213@localhost.com  Beëindigd   \n",
      "15                   GE  fsp4212   fsp4212@localhost.com  Beëindigd   \n",
      "16                   GE  fsp4211   fsp4211@localhost.com      Bezig   \n",
      "17                   GE  fsp4208   fsp4208@localhost.com  Beëindigd   \n",
      "18                   GE  fsp4207   fsp4207@localhost.com      Bezig   \n",
      "19                   GE  fsp4206   fsp4206@localhost.com  Beëindigd   \n",
      "20                   GE  fsp4204   fsp4204@localhost.com  Beëindigd   \n",
      "21                   GE  fsp4203   fsp4203@localhost.com      Bezig   \n",
      "22                   GE  fsp4201   fsp4201@localhost.com  Beëindigd   \n",
      "23                   GE  fsp4111   fsp4111@localhost.com      Bezig   \n",
      "24                   GE  fsp4102   fsp4102@localhost.com      Bezig   \n",
      "25                   GE  fsp4101   fsp4101@localhost.com      Bezig   \n",
      "26                   PL  fsp3218   fsp3218@localhost.com  Beëindigd   \n",
      "27                   PL  fsp3217   fsp3217@localhost.com  Beëindigd   \n",
      "28                   PL  fsp3216   fsp3216@localhost.com  Beëindigd   \n",
      "29                   PL  fsp3215   fsp3215@localhost.com  Beëindigd   \n",
      "30                   PL  fsp3214   fsp3214@localhost.com  Beëindigd   \n",
      "31                   PL  fsp3213   fsp3213@localhost.com  Beëindigd   \n",
      "32                   PL  fsp3212   fsp3212@localhost.com  Beëindigd   \n",
      "33                   PL  fsp3211   fsp3211@localhost.com  Beëindigd   \n",
      "34                   PL  fsp3210   fsp3210@localhost.com  Beëindigd   \n",
      "35                   PL  fsp3209   fsp3209@localhost.com  Beëindigd   \n",
      "36                   PL  fsp3208   fsp3208@localhost.com  Beëindigd   \n",
      "37                   PL  fsp3207   fsp3207@localhost.com  Beëindigd   \n",
      "38                   PL  fsp3206   fsp3206@localhost.com  Beëindigd   \n",
      "39                   PL  fsp3205   fsp3205@localhost.com  Beëindigd   \n",
      "40                   PL  fsp3204   fsp3204@localhost.com  Beëindigd   \n",
      "41                   PL  fsp3203   fsp3203@localhost.com  Beëindigd   \n",
      "42                   PL  fsp3202   fsp3202@localhost.com  Beëindigd   \n",
      "43                   PL  fsp3201   fsp3201@localhost.com  Beëindigd   \n",
      "44                   PL  fsp3116  fsp3_116@localhost.com  Beëindigd   \n",
      "45                   GE  fsg3202   fsg3202@localhost.com  Beëindigd   \n",
      "46  Algemeen gemiddelde      NaN                     NaN        NaN   \n",
      "\n",
      "                    Gestart op                    Voltooid  \\\n",
      "0   12 February 2022  03:41 AM  12 February 2022  03:51 AM   \n",
      "1   17 February 2022  01:39 AM  17 February 2022  01:47 AM   \n",
      "2   11 February 2022  21:47 PM  11 February 2022  22:00 PM   \n",
      "3    8 February 2022  03:36 AM                           -   \n",
      "4   16 February 2022  19:42 PM  16 February 2022  19:54 PM   \n",
      "5    3 February 2022  21:35 PM   3 February 2022  21:45 PM   \n",
      "6    8 February 2022  20:34 PM   8 February 2022  20:42 PM   \n",
      "7    4 February 2022  22:45 PM   4 February 2022  23:00 PM   \n",
      "8    28 January 2022  03:28 AM   28 January 2022  03:38 AM   \n",
      "9    3 February 2022  23:41 PM   3 February 2022  23:52 PM   \n",
      "10   20 January 2022  19:46 PM   20 January 2022  19:54 PM   \n",
      "11   9 February 2022  21:40 PM   9 February 2022  21:47 PM   \n",
      "12   12 January 2022  23:33 PM   12 January 2022  23:47 PM   \n",
      "13   28 January 2022  22:09 PM   28 January 2022  22:20 PM   \n",
      "14   24 January 2022  21:44 PM   24 January 2022  21:57 PM   \n",
      "15   18 January 2022  21:43 PM   18 January 2022  21:57 PM   \n",
      "16   19 January 2022  03:41 AM                           -   \n",
      "17   8 December 2021  23:52 PM   9 December 2021  00:02 AM   \n",
      "18  15 December 2021  02:41 AM                           -   \n",
      "19   2 December 2021  21:42 PM   2 December 2021  21:52 PM   \n",
      "20  25 November 2021  21:42 PM  25 November 2021  21:52 PM   \n",
      "21  27 November 2021  01:37 AM                           -   \n",
      "22  17 November 2021  01:45 AM  17 November 2021  01:56 AM   \n",
      "23   18 January 2022  00:49 AM                           -   \n",
      "24  10 November 2021  02:17 AM                           -   \n",
      "25  10 February 2022  01:57 AM                           -   \n",
      "26   3 December 2021  00:29 AM   3 December 2021  00:41 AM   \n",
      "27   2 December 2021  00:35 AM   2 December 2021  00:45 AM   \n",
      "28   1 December 2021  21:12 PM   1 December 2021  21:25 PM   \n",
      "29   1 December 2021  03:48 AM   1 December 2021  03:58 AM   \n",
      "30  30 November 2021  04:11 AM  30 November 2021  04:24 AM   \n",
      "31  29 November 2021  21:05 PM  29 November 2021  21:19 PM   \n",
      "32  27 November 2021  00:22 AM  27 November 2021  00:33 AM   \n",
      "33  26 November 2021  21:19 PM  26 November 2021  21:37 PM   \n",
      "34  25 November 2021  00:25 AM  25 November 2021  00:33 AM   \n",
      "35  24 November 2021  20:46 PM  24 November 2021  20:54 PM   \n",
      "36  24 November 2021  04:08 AM  24 November 2021  04:24 AM   \n",
      "37  22 November 2021  20:53 PM  22 November 2021  21:03 PM   \n",
      "38  18 November 2021  02:42 AM  18 November 2021  02:55 AM   \n",
      "39  17 November 2021  21:07 PM  17 November 2021  21:17 PM   \n",
      "40  15 November 2021  20:54 PM  15 November 2021  21:00 PM   \n",
      "41  11 November 2021  00:34 AM  11 November 2021  00:42 AM   \n",
      "42   6 November 2021  00:40 AM   6 November 2021  00:49 AM   \n",
      "43   5 November 2021  01:40 AM   5 November 2021  01:49 AM   \n",
      "44   2 November 2021  21:17 PM   2 November 2021  21:28 PM   \n",
      "45   7 December 2021  04:09 AM   7 December 2021  04:19 AM   \n",
      "46                         NaN                         NaN   \n",
      "\n",
      "            Gebruikte tijd Cijfer/30,00 V. 1 /1,00 V. 2 /1,00  ...  \\\n",
      "0    9 minuten 29 seconden        23,00       1,00       1,00  ...   \n",
      "1    8 minuten 38 seconden        26,00       1,00       1,00  ...   \n",
      "2   13 minuten 43 seconden        18,00       1,00       1,00  ...   \n",
      "3                        -            -          -          -  ...   \n",
      "4   12 minuten 13 seconden        15,00       1,00       0,00  ...   \n",
      "5    9 minuten 39 seconden        19,00       1,00       1,00  ...   \n",
      "6    7 minuten 57 seconden        19,00       1,00       1,00  ...   \n",
      "7    14 minuten 7 seconden        21,00       1,00       0,00  ...   \n",
      "8    10 minuten 2 seconden        24,00       1,00       1,00  ...   \n",
      "9   10 minuten 38 seconden        21,00       1,00       1,00  ...   \n",
      "10   8 minuten 29 seconden        21,00       1,00       1,00  ...   \n",
      "11   6 minuten 54 seconden        19,00       1,00       1,00  ...   \n",
      "12  13 minuten 53 seconden        21,00       1,00       1,00  ...   \n",
      "13  10 minuten 29 seconden        18,00       1,00       0,00  ...   \n",
      "14  12 minuten 50 seconden        15,00       0,00       1,00  ...   \n",
      "15  14 minuten 22 seconden        21,00       1,00       1,00  ...   \n",
      "16                       -            -          -          -  ...   \n",
      "17   10 minuten 3 seconden        25,00       1,00       1,00  ...   \n",
      "18                       -            -          -          -  ...   \n",
      "19  10 minuten 33 seconden        20,00       1,00       1,00  ...   \n",
      "20  10 minuten 24 seconden        23,00       1,00       1,00  ...   \n",
      "21                       -            -          -          -  ...   \n",
      "22  10 minuten 46 seconden        22,00       1,00       1,00  ...   \n",
      "23                       -            -          -          -  ...   \n",
      "24                       -            -          -          -  ...   \n",
      "25                       -            -          -          -  ...   \n",
      "26  12 minuten 37 seconden        18,00       1,00       0,00  ...   \n",
      "27   9 minuten 27 seconden        19,00       1,00       1,00  ...   \n",
      "28   13 minuten 9 seconden        22,00       0,00       0,00  ...   \n",
      "29  10 minuten 30 seconden        17,00       0,00       1,00  ...   \n",
      "30  12 minuten 58 seconden        19,00       1,00       0,00  ...   \n",
      "31  14 minuten 11 seconden        21,00       1,00       1,00  ...   \n",
      "32  11 minuten 18 seconden        20,00       0,00       1,00  ...   \n",
      "33  17 minuten 32 seconden        23,00       1,00       1,00  ...   \n",
      "34   7 minuten 39 seconden        23,00       1,00       1,00  ...   \n",
      "35               8 minuten        21,00       1,00       0,00  ...   \n",
      "36   16 minuten 3 seconden        22,00       1,00       0,00  ...   \n",
      "37  10 minuten 20 seconden        22,00       1,00       0,00  ...   \n",
      "38  13 minuten 29 seconden        25,00       1,00       1,00  ...   \n",
      "39  10 minuten 14 seconden        25,00       1,00       1,00  ...   \n",
      "40   6 minuten 18 seconden        26,00       1,00       1,00  ...   \n",
      "41    8 minuten 2 seconden        23,00       1,00       1,00  ...   \n",
      "42   8 minuten 56 seconden        24,00       1,00       1,00  ...   \n",
      "43    9 minuten 2 seconden        19,00       1,00       0,00  ...   \n",
      "44  10 minuten 41 seconden        21,00       0,00       1,00  ...   \n",
      "45   9 minuten 22 seconden        17,00       1,00       0,00  ...   \n",
      "46                     NaN        20,97       0,87       0,72  ...   \n",
      "\n",
      "   V. 21 /1,00 V. 22 /1,00 V. 23 /1,00 V. 24 /1,00 V. 25 /1,00 V. 26 /1,00  \\\n",
      "0         1,00        1,00        1,00        1,00        0,00        1,00   \n",
      "1         1,00        1,00        1,00        1,00        1,00        1,00   \n",
      "2         1,00        1,00        0,00        1,00        1,00        1,00   \n",
      "3            -           -           -           -           -           -   \n",
      "4         1,00        1,00        1,00        1,00        0,00        0,00   \n",
      "5         1,00        1,00        1,00        1,00        0,00        1,00   \n",
      "6         1,00        1,00        1,00        1,00        1,00        1,00   \n",
      "7         1,00        1,00        1,00        1,00        1,00        1,00   \n",
      "8         1,00        0,00        1,00        0,00        0,00        1,00   \n",
      "9         1,00        1,00        1,00        1,00        0,00        1,00   \n",
      "10        1,00        1,00        1,00        1,00        1,00        1,00   \n",
      "11        1,00        1,00        1,00        0,00        0,00        1,00   \n",
      "12        1,00        1,00        1,00        1,00        0,00        1,00   \n",
      "13        1,00        1,00        1,00        1,00        0,00        1,00   \n",
      "14        1,00        0,00        1,00        1,00        1,00        1,00   \n",
      "15        1,00        1,00        1,00        1,00        1,00        1,00   \n",
      "16           -           -           -           -           -           -   \n",
      "17        1,00        1,00        1,00        1,00        1,00        1,00   \n",
      "18           -           -           -           -           -           -   \n",
      "19        1,00        1,00        1,00        0,00        0,00        1,00   \n",
      "20        1,00        1,00        1,00        1,00        1,00        1,00   \n",
      "21           -           -           -           -           -           -   \n",
      "22        1,00        1,00        1,00        1,00        1,00        1,00   \n",
      "23           -           -           -           -           -           -   \n",
      "24           -           -           -           -           -           -   \n",
      "25           -           -           -           -           -           -   \n",
      "26        1,00        1,00        1,00        1,00        0,00        1,00   \n",
      "27        1,00        1,00        1,00        1,00        1,00        1,00   \n",
      "28        1,00        1,00        1,00        1,00        1,00        1,00   \n",
      "29        0,00        1,00        1,00        1,00        0,00        0,00   \n",
      "30        0,00        1,00        1,00        1,00        0,00        1,00   \n",
      "31        1,00        1,00        1,00        1,00        1,00        0,00   \n",
      "32        0,00        1,00        1,00        1,00        1,00        1,00   \n",
      "33        1,00        1,00        1,00        0,00        1,00        1,00   \n",
      "34        0,00        1,00        1,00        1,00        1,00        1,00   \n",
      "35        1,00        1,00        1,00        1,00        1,00        0,00   \n",
      "36        0,00        1,00        1,00        1,00        1,00        0,00   \n",
      "37        1,00        1,00        1,00        0,00        1,00        0,00   \n",
      "38        1,00        1,00        1,00        1,00        0,00        0,00   \n",
      "39        1,00        1,00        1,00        1,00        1,00        1,00   \n",
      "40        1,00        1,00        1,00        1,00        1,00        1,00   \n",
      "41        1,00        1,00        1,00        1,00        0,00        0,00   \n",
      "42        1,00        1,00        1,00        0,00        1,00        1,00   \n",
      "43        0,00        1,00        1,00        1,00        1,00        0,00   \n",
      "44        1,00        1,00        1,00        1,00        0,00        1,00   \n",
      "45        0,00        1,00        1,00        0,00        0,00        1,00   \n",
      "46        0,82        0,95        0,97        0,82        0,59        0,77   \n",
      "\n",
      "   V. 27 /1,00 V. 28 /1,00 V. 29 /1,00 V. 30 /1,00  \n",
      "0         1,00        0,00        1,00        1,00  \n",
      "1         1,00        1,00        1,00        1,00  \n",
      "2         0,00        0,00        1,00        1,00  \n",
      "3            -           -           -           -  \n",
      "4         0,00        0,00        0,00        0,00  \n",
      "5         1,00        0,00        1,00        1,00  \n",
      "6         1,00        1,00        1,00        1,00  \n",
      "7         0,00        1,00        1,00        1,00  \n",
      "8         1,00        0,00        1,00        1,00  \n",
      "9         0,00        1,00        1,00        1,00  \n",
      "10        1,00        0,00        1,00        0,00  \n",
      "11        1,00        0,00        1,00        1,00  \n",
      "12        0,00        0,00        1,00        1,00  \n",
      "13        1,00        0,00        1,00        0,00  \n",
      "14        1,00        0,00        1,00        0,00  \n",
      "15        1,00        0,00        0,00        0,00  \n",
      "16           -           -           -           -  \n",
      "17        0,00        1,00        0,00        1,00  \n",
      "18           -           -           -           -  \n",
      "19        1,00        0,00        1,00        1,00  \n",
      "20        0,00        0,00        0,00        1,00  \n",
      "21           -           -           -           -  \n",
      "22        0,00        0,00        0,00        1,00  \n",
      "23           -           -           -           -  \n",
      "24           -           -           -           -  \n",
      "25           -           -           -           -  \n",
      "26        1,00        0,00        0,00        1,00  \n",
      "27        0,00        0,00        1,00        1,00  \n",
      "28        1,00        0,00        1,00        1,00  \n",
      "29        0,00        0,00        1,00        1,00  \n",
      "30        0,00        0,00        1,00        1,00  \n",
      "31        0,00        1,00        1,00        1,00  \n",
      "32        0,00        0,00        1,00        1,00  \n",
      "33        0,00        0,00        1,00        1,00  \n",
      "34        0,00        0,00        1,00        1,00  \n",
      "35        0,00        0,00        0,00        1,00  \n",
      "36        1,00        0,00        1,00        1,00  \n",
      "37        1,00        0,00        1,00        1,00  \n",
      "38        1,00        0,00        0,00        1,00  \n",
      "39        0,00        0,00        0,00        1,00  \n",
      "40        1,00        0,00        0,00        1,00  \n",
      "41        0,00        0,00        1,00        1,00  \n",
      "42        0,00        0,00        0,00        1,00  \n",
      "43        0,00        1,00        1,00        1,00  \n",
      "44        1,00        1,00        0,00        1,00  \n",
      "45        0,00        0,00        1,00        1,00  \n",
      "46        0,46        0,21        0,69        0,87  \n",
      "\n",
      "[47 rows x 38 columns]\n",
      "  Achternaam Voornaam            E-mailadres     Status  \\\n",
      "0         GE  fsp4232  fsp4232@localhost.com  Beëindigd   \n",
      "1         GE  fsp4230  fsp4230@localhost.com  Beëindigd   \n",
      "2         GE  fsp4228  fsp4228@localhost.com  Beëindigd   \n",
      "3         GE  fsp4227  fsp4227@localhost.com      Bezig   \n",
      "4         GE  fsp4226  fsp4226@localhost.com  Beëindigd   \n",
      "\n",
      "                   Gestart op                    Voltooid  \\\n",
      "0  12 February 2022  03:41 AM  12 February 2022  03:51 AM   \n",
      "1  17 February 2022  01:39 AM  17 February 2022  01:47 AM   \n",
      "2  11 February 2022  21:47 PM  11 February 2022  22:00 PM   \n",
      "3   8 February 2022  03:36 AM                           -   \n",
      "4  16 February 2022  19:42 PM  16 February 2022  19:54 PM   \n",
      "\n",
      "           Gebruikte tijd Cijfer/30,00 V. 1 /1,00 V. 2 /1,00  ... V. 21 /1,00  \\\n",
      "0   9 minuten 29 seconden        23,00       1,00       1,00  ...        1,00   \n",
      "1   8 minuten 38 seconden        26,00       1,00       1,00  ...        1,00   \n",
      "2  13 minuten 43 seconden        18,00       1,00       1,00  ...        1,00   \n",
      "3                       -            -          -          -  ...           -   \n",
      "4  12 minuten 13 seconden        15,00       1,00       0,00  ...        1,00   \n",
      "\n",
      "  V. 22 /1,00 V. 23 /1,00 V. 24 /1,00 V. 25 /1,00 V. 26 /1,00 V. 27 /1,00  \\\n",
      "0        1,00        1,00        1,00        0,00        1,00        1,00   \n",
      "1        1,00        1,00        1,00        1,00        1,00        1,00   \n",
      "2        1,00        0,00        1,00        1,00        1,00        0,00   \n",
      "3           -           -           -           -           -           -   \n",
      "4        1,00        1,00        1,00        0,00        0,00        0,00   \n",
      "\n",
      "  V. 28 /1,00 V. 29 /1,00 V. 30 /1,00  \n",
      "0        0,00        1,00        1,00  \n",
      "1        1,00        1,00        1,00  \n",
      "2        0,00        1,00        1,00  \n",
      "3           -           -           -  \n",
      "4        0,00        0,00        0,00  \n",
      "\n",
      "[5 rows x 38 columns]\n"
     ]
    },
    {
     "data": {
      "text/plain": "   Cijfer/30,00  V. 1 /1,00  V. 2 /1,00  V. 3 /1,00  V. 4 /1,00  V. 5 /1,00  \\\n0            23           1           1           0           1           0   \n1            26           1           1           1           1           1   \n\n   V. 6 /1,00  V. 7 /1,00  V. 8 /1,00  V. 9 /1,00  ...  V. 21 /1,00  \\\n0           0           1           1           1  ...            1   \n1           1           0           1           1  ...            1   \n\n   V. 22 /1,00  V. 23 /1,00  V. 24 /1,00  V. 25 /1,00  V. 26 /1,00  \\\n0            1            1            1            0            1   \n1            1            1            1            1            1   \n\n   V. 27 /1,00  V. 28 /1,00  V. 29 /1,00  V. 30 /1,00  \n0            1            0            1            1  \n1            1            1            1            1  \n\n[2 rows x 31 columns]",
      "text/html": "<div>\n<style scoped>\n    .dataframe tbody tr th:only-of-type {\n        vertical-align: middle;\n    }\n\n    .dataframe tbody tr th {\n        vertical-align: top;\n    }\n\n    .dataframe thead th {\n        text-align: right;\n    }\n</style>\n<table border=\"1\" class=\"dataframe\">\n  <thead>\n    <tr style=\"text-align: right;\">\n      <th></th>\n      <th>Cijfer/30,00</th>\n      <th>V. 1 /1,00</th>\n      <th>V. 2 /1,00</th>\n      <th>V. 3 /1,00</th>\n      <th>V. 4 /1,00</th>\n      <th>V. 5 /1,00</th>\n      <th>V. 6 /1,00</th>\n      <th>V. 7 /1,00</th>\n      <th>V. 8 /1,00</th>\n      <th>V. 9 /1,00</th>\n      <th>...</th>\n      <th>V. 21 /1,00</th>\n      <th>V. 22 /1,00</th>\n      <th>V. 23 /1,00</th>\n      <th>V. 24 /1,00</th>\n      <th>V. 25 /1,00</th>\n      <th>V. 26 /1,00</th>\n      <th>V. 27 /1,00</th>\n      <th>V. 28 /1,00</th>\n      <th>V. 29 /1,00</th>\n      <th>V. 30 /1,00</th>\n    </tr>\n  </thead>\n  <tbody>\n    <tr>\n      <th>0</th>\n      <td>23</td>\n      <td>1</td>\n      <td>1</td>\n      <td>0</td>\n      <td>1</td>\n      <td>0</td>\n      <td>0</td>\n      <td>1</td>\n      <td>1</td>\n      <td>1</td>\n      <td>...</td>\n      <td>1</td>\n      <td>1</td>\n      <td>1</td>\n      <td>1</td>\n      <td>0</td>\n      <td>1</td>\n      <td>1</td>\n      <td>0</td>\n      <td>1</td>\n      <td>1</td>\n    </tr>\n    <tr>\n      <th>1</th>\n      <td>26</td>\n      <td>1</td>\n      <td>1</td>\n      <td>1</td>\n      <td>1</td>\n      <td>1</td>\n      <td>1</td>\n      <td>0</td>\n      <td>1</td>\n      <td>1</td>\n      <td>...</td>\n      <td>1</td>\n      <td>1</td>\n      <td>1</td>\n      <td>1</td>\n      <td>1</td>\n      <td>1</td>\n      <td>1</td>\n      <td>1</td>\n      <td>1</td>\n      <td>1</td>\n    </tr>\n  </tbody>\n</table>\n<p>2 rows × 31 columns</p>\n</div>"
     },
     "execution_count": 14,
     "metadata": {},
     "output_type": "execute_result"
    }
   ],
   "source": [
    "Test = pd.read_csv(BasePath + Files[1] + \"/\" + TestFile[0])\n",
    "print(Test)\n",
    "\n",
    "# Remove all the nasty data\n",
    "CleanTest = clean_data(Test)\n",
    "CleanTest.head(n=2)\n",
    "\n",
    "# Obtain X and Y to test effectiveness later\n",
    "#X, y = getXY(CleanTest, \"Cijfer/26,00\")\n",
    "\n",
    "# print(len(y))\n",
    "# print(len(X))\n",
    "\n",
    "#Y = group_y(y, 27)\n",
    "\n",
    "# print(Y)\n",
    "# print(len(Y))\n",
    "\n",
    "# Obtain train Test data\n",
    "# X_train, X_test, y_train, y_test = split_data(X, Y, 0.2)"
   ],
   "metadata": {
    "collapsed": false,
    "pycharm": {
     "name": "#%%\n"
    }
   }
  },
  {
   "cell_type": "code",
   "execution_count": 15,
   "outputs": [
    {
     "ename": "NameError",
     "evalue": "name 'X' is not defined",
     "output_type": "error",
     "traceback": [
      "\u001B[1;31m---------------------------------------------------------------------------\u001B[0m",
      "\u001B[1;31mNameError\u001B[0m                                 Traceback (most recent call last)",
      "\u001B[1;32m~\\AppData\\Local\\Temp/ipykernel_7516/3149506987.py\u001B[0m in \u001B[0;36m<module>\u001B[1;34m\u001B[0m\n\u001B[1;32m----> 1\u001B[1;33m \u001B[0mgm\u001B[0m \u001B[1;33m=\u001B[0m \u001B[0mGaussianMixture\u001B[0m\u001B[1;33m(\u001B[0m\u001B[0mn_components\u001B[0m\u001B[1;33m=\u001B[0m\u001B[1;36m3\u001B[0m\u001B[1;33m,\u001B[0m \u001B[0mrandom_state\u001B[0m\u001B[1;33m=\u001B[0m\u001B[1;36m0\u001B[0m\u001B[1;33m)\u001B[0m\u001B[1;33m.\u001B[0m\u001B[0mfit\u001B[0m\u001B[1;33m(\u001B[0m\u001B[0mX\u001B[0m\u001B[1;33m)\u001B[0m\u001B[1;33m\u001B[0m\u001B[1;33m\u001B[0m\u001B[0m\n\u001B[0m\u001B[0;32m      2\u001B[0m \u001B[1;33m\u001B[0m\u001B[0m\n\u001B[0;32m      3\u001B[0m \u001B[0macc\u001B[0m\u001B[1;33m,\u001B[0m \u001B[0mpredict\u001B[0m \u001B[1;33m=\u001B[0m \u001B[0mget_accuracy\u001B[0m\u001B[1;33m(\u001B[0m\u001B[0mgm\u001B[0m\u001B[1;33m,\u001B[0m \u001B[0mX\u001B[0m\u001B[1;33m,\u001B[0m \u001B[0mY\u001B[0m\u001B[1;33m)\u001B[0m\u001B[1;33m\u001B[0m\u001B[1;33m\u001B[0m\u001B[0m\n\u001B[0;32m      4\u001B[0m \u001B[0mprint\u001B[0m\u001B[1;33m(\u001B[0m\u001B[0macc\u001B[0m\u001B[1;33m)\u001B[0m\u001B[1;33m\u001B[0m\u001B[1;33m\u001B[0m\u001B[0m\n",
      "\u001B[1;31mNameError\u001B[0m: name 'X' is not defined"
     ]
    }
   ],
   "source": [
    "# gm = GaussianMixture(n_components=3, random_state=0).fit(X)\n",
    "#\n",
    "# acc, predict = get_accuracy(gm, X, Y)\n",
    "# print(acc)"
   ],
   "metadata": {
    "collapsed": false,
    "pycharm": {
     "name": "#%%\n"
    }
   }
  },
  {
   "cell_type": "markdown",
   "source": [
    "## Some Random plotting tests"
   ],
   "metadata": {
    "collapsed": false
   }
  },
  {
   "cell_type": "code",
   "execution_count": 16,
   "outputs": [
    {
     "ename": "NameError",
     "evalue": "name 'X' is not defined",
     "output_type": "error",
     "traceback": [
      "\u001B[1;31m---------------------------------------------------------------------------\u001B[0m",
      "\u001B[1;31mNameError\u001B[0m                                 Traceback (most recent call last)",
      "\u001B[1;32m~\\AppData\\Local\\Temp/ipykernel_7516/510312987.py\u001B[0m in \u001B[0;36m<module>\u001B[1;34m\u001B[0m\n\u001B[0;32m     10\u001B[0m \u001B[1;33m\u001B[0m\u001B[0m\n\u001B[0;32m     11\u001B[0m \u001B[1;31m#predict the labels of clusters.\u001B[0m\u001B[1;33m\u001B[0m\u001B[1;33m\u001B[0m\u001B[0m\n\u001B[1;32m---> 12\u001B[1;33m \u001B[0mlabel\u001B[0m \u001B[1;33m=\u001B[0m \u001B[0mkmeans\u001B[0m\u001B[1;33m.\u001B[0m\u001B[0mfit_predict\u001B[0m\u001B[1;33m(\u001B[0m\u001B[0mX\u001B[0m\u001B[1;33m)\u001B[0m\u001B[1;33m\u001B[0m\u001B[1;33m\u001B[0m\u001B[0m\n\u001B[0m\u001B[0;32m     13\u001B[0m \u001B[1;33m\u001B[0m\u001B[0m\n\u001B[0;32m     14\u001B[0m \u001B[1;31m#Transform the data\u001B[0m\u001B[1;33m\u001B[0m\u001B[1;33m\u001B[0m\u001B[0m\n",
      "\u001B[1;31mNameError\u001B[0m: name 'X' is not defined"
     ]
    }
   ],
   "source": [
    "# from sklearn.cluster import KMeans\n",
    "# from sklearn.decomposition import PCA\n",
    "# import matplotlib.pyplot as plt\n",
    "#\n",
    "# #Load Data\n",
    "# pca = PCA(2)\n",
    "#\n",
    "# #Initialize the class object\n",
    "# kmeans = KMeans(n_clusters= 3)\n",
    "#\n",
    "# #predict the labels of clusters.\n",
    "# label = kmeans.fit_predict(X)\n",
    "#\n",
    "# #Transform the data\n",
    "# df = pca.fit_transform(X)\n",
    "#\n",
    "#\n",
    "# #Getting unique labels\n",
    "# u_labels = np.unique(label)\n",
    "#\n",
    "# #plotting the results:\n",
    "# for i in u_labels:\n",
    "#     plt.scatter(df[label == i , 0] , df[label == i , 1] , label = i)\n",
    "# plt.legend()\n",
    "# plt.show()\n",
    "#\n",
    "# # kmeans = KMeans(n_clusters=27, random_state=0).fit(X)\n",
    "#\n",
    "# # acc = get_accuracy(gm, X_test, y_test)"
   ],
   "metadata": {
    "collapsed": false,
    "pycharm": {
     "name": "#%%\n"
    }
   }
  },
  {
   "cell_type": "markdown",
   "source": [
    "## Lucas' Code time for fun and goodness (and maybe clustering based on specific features not from the test scores)\n",
    "\n",
    "### using exclusively the ctrl+c and ctrl+v keys"
   ],
   "metadata": {
    "collapsed": false
   }
  },
  {
   "cell_type": "code",
   "execution_count": 17,
   "outputs": [],
   "source": [
    "# Now that we can cluster students based on the features extracted from the process lables (kind of they all seem to be in the -1 class?)\n",
    "# We can now combine these features with the features extracted by Ylja and link them based on username"
   ],
   "metadata": {
    "collapsed": false,
    "pycharm": {
     "name": "#%%\n"
    }
   }
  },
  {
   "cell_type": "code",
   "execution_count": 66,
   "outputs": [
    {
     "data": {
      "text/plain": "<Figure size 432x288 with 1 Axes>",
      "image/png": "[encoded data removed]"
     },
     "metadata": {
      "needs_background": "light"
     },
     "output_type": "display_data"
    }
   ],
   "source": [
    "from sklearn.cluster import DBSCAN\n",
    "import csv\n",
    "from datetime import datetime\n",
    "# which features will we use? lets set out some cognition features\n",
    "# the two different goodness values can be knowledge gained or score in post-test\n",
    "# lets first take in the process labesl\n",
    "\n",
    "def fix(X):\n",
    "    # making sure the users arent clustered on username\n",
    "    try:\n",
    "        X = X.drop(columns = [\"Username\"])\n",
    "    except:\n",
    "        pass\n",
    "    X = (X-X.mean())/X.std()\n",
    "    # filling the nan values\n",
    "    X = X.fillna(0)\n",
    "    return X\n",
    "\n",
    "def load_process_features(c_file):\n",
    "\n",
    "    # in study 3 there are two different studies (??) based on if its:\n",
    "    # fsp3_2xx.patterns :  Username\tMoodle ID\tSession Start (ms)\tProcess Label\tProcess Start Time\tProcess End Time\n",
    "\n",
    "    # fsg3_0xx.combined : logid\tactionid\tpatternid\ttime\tlog label\taction label\tpattern label\tpattern span\tlog value\n",
    "\n",
    "    # fsc3_0xx.combined : logid\tactionid\tpatternid\ttime\tlog label\taction label\tpattern label\tpattern span\tlog value\n",
    "\n",
    "    # i will just use the bottom two because they are the same and can just regex combined\n",
    "\n",
    "    features = {}\n",
    "\n",
    "    cleaned = []\n",
    "    with open(BasePath_2 + c_file, newline='', encoding='utf8') as csvfile:\n",
    "        spamreader = csv.reader(csvfile, delimiter=' ', quotechar='|')\n",
    "        for row in spamreader:\n",
    "            real = (', '.join(row))\n",
    "            if real.count(\",\") == 9:\n",
    "                cleaned.append(np.array(real.split(\",\")))\n",
    "    cleaned = np.array(cleaned)\n",
    "    data = pd.DataFrame(cleaned, columns = [\"logid\", \"actionid\", \"patternid\", \"date\", \"time\",\t\"log_label\", \"action_label\", \"pattern_label\", \"pattern_span\", \"log_value\"])\n",
    "\n",
    "    features[\"Username\"] = c_file.split(\",\")[0]\n",
    "    # creating the time spent column\n",
    "\n",
    "    time = list(data[\"time\"])\n",
    "    time.insert(0, time[0])\n",
    "    time_spent = []\n",
    "    FMT = ' %H:%M:%S'\n",
    "    for i in range(1,len(time)):\n",
    "        tdelta = datetime.strptime(time[i], FMT) - datetime.strptime(time[i-1], FMT)\n",
    "        time_spent.append(tdelta.total_seconds())\n",
    "\n",
    "    data[\"Process_Time_Spent\"] = time_spent\n",
    "    proc_labels = np.unique(np.array(data[\"pattern_label\"]))\n",
    "\n",
    "\n",
    "    max_time = data[\"Process_Time_Spent\"].sum()\n",
    "\n",
    "    for proc in proc_labels:\n",
    "        proc_rows = data[data[\"pattern_label\"] == proc]\n",
    "\n",
    "        # feature #1 total time spent on processes\n",
    "        features[(\"Time_spent_\"+proc)] = [proc_rows[\"Process_Time_Spent\"].sum()]\n",
    "\n",
    "        # feature #2 mean time per session process session\n",
    "        features[(\"Mean_time_\"+proc)] = [proc_rows[\"Process_Time_Spent\"].mean()]\n",
    "\n",
    "        # feature #3 amount of times they did a process\n",
    "        features[(\"Times_performed_\"+proc)] = [proc_rows[\"Process_Time_Spent\"].count()]\n",
    "\n",
    "        # feature #4 percentage of time spent on a process\n",
    "        features[(\"Percent_time_\"+proc)] = [proc_rows[\"Process_Time_Spent\"].sum()/max_time]\n",
    "\n",
    "    # return the features as a df\n",
    "    return pd.DataFrame.from_dict(features)\n",
    "\n",
    "def cluster(X, features):\n",
    "    X = fix(X)\n",
    "    # creating labels for the users\n",
    "\n",
    "    # clustering = DBSCAN(eps=10.5, min_samples=2).fit(X)\n",
    "    # return clustering.labels_\n",
    "\n",
    "    kmeans = KMeans(n_clusters= 3)\n",
    "    clustering = kmeans.fit_predict(X)\n",
    "\n",
    "    return clustering\n",
    "\n",
    "def create_X(user_df, labels):\n",
    "\n",
    "    X = fix(user_df)\n",
    "\n",
    "    labels = pd.DataFrame(labels)\n",
    "\n",
    "    # selecting only the features the users chose\n",
    "    # X = user_df[features_chosen]\n",
    "\n",
    "    #Load Data into pca\n",
    "    pca = PCA(2)\n",
    "\n",
    "    #Transform the data into 2 dimensions\n",
    "    X = pca.fit_transform(X)\n",
    "    X = pd.DataFrame(X)\n",
    "\n",
    "    result = pd.concat([X, labels], axis=1)\n",
    "\n",
    "    result.columns = ['X', 'y', 'labels']\n",
    "\n",
    "    return result\n",
    "\n",
    "def plot(X):\n",
    "    u_labels = X['labels'].unique()\n",
    "\n",
    "    for i in u_labels:\n",
    "        plt.scatter(X['X'].loc[X['labels'] == i],\n",
    "                    X['y'].loc[X['labels'] == i],\n",
    "                    label = i)\n",
    "    plt.legend()\n",
    "    plt.show()\n",
    "\n",
    "\n",
    "# ==================== main\n",
    "BasePath_2 = \"data/Flora Data/Study 3/\"\n",
    "Files = os.listdir(BasePath_2)\n",
    "\n",
    "# getting the combined files\n",
    "combined_files = []\n",
    "for x in Files:\n",
    "    if \"combined.csv\" in x:\n",
    "        combined_files.append(x)\n",
    "\n",
    "users = []\n",
    "for c_file in combined_files:\n",
    "    users.append(load_process_features(c_file))\n",
    "\n",
    "user_df = pd.concat(users)\n",
    "features_chosen = list(user_df.columns)\n",
    "labels = cluster(user_df, features_chosen)\n",
    "X = create_X(user_df, labels)\n",
    "plot(X)"
   ],
   "metadata": {
    "collapsed": false,
    "pycharm": {
     "name": "#%%\n"
    }
   }
  },
  {
   "cell_type": "code",
   "execution_count": 72,
   "outputs": [
    {
     "data": {
      "text/plain": "           X         y  labels\n0   7.088102 -0.279411       1\n1   4.306883 -1.497738       1\n2  -0.692535 -2.025155       2\n3   0.807719 -4.993237       2\n4   2.781382  0.601372       1\n..       ...       ...     ...\n57 -3.929152  0.702156       0\n58 -1.479401  0.259472       0\n59 -0.770992 -1.357102       2\n60  0.982126 -1.477146       2\n61 -3.275410  0.740712       0\n\n[62 rows x 3 columns]",
      "text/html": "<div>\n<style scoped>\n    .dataframe tbody tr th:only-of-type {\n        vertical-align: middle;\n    }\n\n    .dataframe tbody tr th {\n        vertical-align: top;\n    }\n\n    .dataframe thead th {\n        text-align: right;\n    }\n</style>\n<table border=\"1\" class=\"dataframe\">\n  <thead>\n    <tr style=\"text-align: right;\">\n      <th></th>\n      <th>X</th>\n      <th>y</th>\n      <th>labels</th>\n    </tr>\n  </thead>\n  <tbody>\n    <tr>\n      <th>0</th>\n      <td>7.088102</td>\n      <td>-0.279411</td>\n      <td>1</td>\n    </tr>\n    <tr>\n      <th>1</th>\n      <td>4.306883</td>\n      <td>-1.497738</td>\n      <td>1</td>\n    </tr>\n    <tr>\n      <th>2</th>\n      <td>-0.692535</td>\n      <td>-2.025155</td>\n      <td>2</td>\n    </tr>\n    <tr>\n      <th>3</th>\n      <td>0.807719</td>\n      <td>-4.993237</td>\n      <td>2</td>\n    </tr>\n    <tr>\n      <th>4</th>\n      <td>2.781382</td>\n      <td>0.601372</td>\n      <td>1</td>\n    </tr>\n    <tr>\n      <th>...</th>\n      <td>...</td>\n      <td>...</td>\n      <td>...</td>\n    </tr>\n    <tr>\n      <th>57</th>\n      <td>-3.929152</td>\n      <td>0.702156</td>\n      <td>0</td>\n    </tr>\n    <tr>\n      <th>58</th>\n      <td>-1.479401</td>\n      <td>0.259472</td>\n      <td>0</td>\n    </tr>\n    <tr>\n      <th>59</th>\n      <td>-0.770992</td>\n      <td>-1.357102</td>\n      <td>2</td>\n    </tr>\n    <tr>\n      <th>60</th>\n      <td>0.982126</td>\n      <td>-1.477146</td>\n      <td>2</td>\n    </tr>\n    <tr>\n      <th>61</th>\n      <td>-3.275410</td>\n      <td>0.740712</td>\n      <td>0</td>\n    </tr>\n  </tbody>\n</table>\n<p>62 rows × 3 columns</p>\n</div>"
     },
     "execution_count": 72,
     "metadata": {},
     "output_type": "execute_result"
    }
   ],
   "source": [
    "X"
   ],
   "metadata": {
    "collapsed": false,
    "pycharm": {
     "name": "#%%\n"
    }
   }
  },
  {
   "cell_type": "code",
   "execution_count": 83,
   "outputs": [],
   "source": [
    "d = (X.groupby('labels')\n",
    "     .apply(lambda x: dict(zip(x['X'],x['y'])))\n",
    "     .to_dict())"
   ],
   "metadata": {
    "collapsed": false,
    "pycharm": {
     "name": "#%%\n"
    }
   }
  },
  {
   "cell_type": "code",
   "execution_count": 84,
   "outputs": [
    {
     "data": {
      "text/plain": "{0: {-1.4483228628850318: 1.8741406706550334,\n  -2.544701158840132: 2.829622458880808,\n  -2.015628172136808: 2.3599758649369393,\n  0.6597248763198464: 0.8629073030142298,\n  -2.8995742510338007: 5.61917976596224,\n  -2.470099862683326: 4.008880898063699,\n  -3.736688934363438: 2.7267609789545917,\n  -1.9446858919259773: 0.3136544550761121,\n  -3.0941293261724083: 0.2904645204335426,\n  -0.6939187555006094: -0.48108470251809127,\n  -2.5542346300424064: 0.3035549677920658,\n  -0.9632844371970762: -0.21660108469479555,\n  -1.758205696081158: -0.9573703514145059,\n  -1.7989420776332554: 1.7802607014074656,\n  -4.6961177464749895: 0.13193444359093406,\n  -1.4496615024763937: -1.763063152251099,\n  -2.2393849220650215: 0.6682217242122178,\n  -2.2495808110099373: 0.11587134064258073,\n  -1.934217306177391: 2.038500438942514,\n  -3.9291518359628785: 0.702155918593691,\n  -1.4794009041965972: 0.25947154193431277,\n  -3.275409506384119: 0.7407123763312561},\n 1: {7.088101826788613: -0.27941057397141483,\n  4.3068825381699805: -1.4977375850970407,\n  2.781382107046646: 0.6013719150315269,\n  1.8668637734088687: 2.827795478284335,\n  0.9471790060472433: 1.3846517028737744,\n  2.6193985800519557: 1.9324512470137678,\n  4.281015809686567: 1.8585789237503214,\n  2.398290003929169: 2.2765574877373735,\n  0.37455165046051997: -0.10219269790628212,\n  1.588067967591133: 0.4632122637354203,\n  2.7416539365589743: 1.7626900934780532,\n  2.0532597249847346: 1.1341505564812187,\n  2.1109846302040123: 1.706508804477769,\n  7.930168869199225: 6.206995949543025,\n  0.08823933407914368: 3.3984663067693184,\n  1.084889637570609: 0.9649118658917752,\n  3.1716236093382304: -1.748831436114193,\n  0.3680570746282202: -3.89841628632176,\n  0.1870629639094256: 0.8422733687207281,\n  -1.1441917313682757: 1.4816145191698427},\n 2: {-0.6925353106790396: -2.02515495001524,\n  0.8077188224975314: -4.993236666030373,\n  -0.5407297995580864: -1.2918252193103168,\n  -0.32130947001807664: -5.36754124472435,\n  -0.263775734903942: -1.9248499680876974,\n  3.0260237088131086: -1.5719715510318457,\n  0.9078682045566996: -4.611768835324408,\n  0.6989252402777721: -2.3809723801655522,\n  0.7177460631606007: -2.122883464013189,\n  1.858211859774741: -0.6365030049850232,\n  0.2277301405242752: -2.6613992031890845,\n  -0.4205051794239263: -1.7394149566279449,\n  -0.43379585908700474: -2.4650309040108285,\n  -0.7696042560854939: -0.8274404850272836,\n  -1.3955575497438946: -0.249377045942074,\n  1.0333590539674966: -3.9590525884951084,\n  -1.8941876508130668: -2.9659043078434455,\n  -1.0845817896524461: -0.8952181554960454,\n  -0.7709921002335288: -1.3571019450804302,\n  0.9821260092642053: -1.4771461066930696}}"
     },
     "execution_count": 84,
     "metadata": {},
     "output_type": "execute_result"
    }
   ],
   "source": [
    "d"
   ],
   "metadata": {
    "collapsed": false,
    "pycharm": {
     "name": "#%%\n"
    }
   }
  },
  {
   "cell_type": "code",
   "execution_count": 80,
   "outputs": [],
   "source": [
    "import json\n",
    "with open('api/result.json', 'w') as fp:\n",
    "    json.dump(d, fp)"
   ],
   "metadata": {
    "collapsed": false,
    "pycharm": {
     "name": "#%%\n"
    }
   }
  },
  {
   "cell_type": "code",
   "execution_count": null,
   "outputs": [],
   "source": [],
   "metadata": {
    "collapsed": false,
    "pycharm": {
     "name": "#%%\n"
    }
   }
  }
 ],
 "metadata": {
  "kernelspec": {
   "display_name": "Python 3",
   "language": "python",
   "name": "python3"
  },
  "language_info": {
   "codemirror_mode": {
    "name": "ipython",
    "version": 2
   },
   "file_extension": ".py",
   "mimetype": "text/x-python",
   "name": "python",
   "nbconvert_exporter": "python",
   "pygments_lexer": "ipython2",
   "version": "2.7.6"
  }
 },
 "nbformat": 4,
 "nbformat_minor": 0
}