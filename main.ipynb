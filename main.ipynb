{
 "cells": [
  {
   "cell_type": "code",
   "execution_count": 1,
   "metadata": {},
   "outputs": [],
   "source": [
    "import os\n",
    "import pandas as pd\n",
    "import numpy as np\n",
    "from sklearn.mixture import GaussianMixture\n",
    "from sklearn.model_selection import train_test_split\n",
    "from sklearn.metrics import accuracy_score\n",
    "from sklearn.cluster import KMeans\n",
    "from sklearn.decomposition import PCA\n",
    "import matplotlib.pyplot as plt"
   ]
  },
  {
   "cell_type": "code",
   "execution_count": 2,
   "metadata": {
    "collapsed": false,
    "jupyter": {
     "outputs_hidden": false
    },
    "pycharm": {
     "name": "#%%\n"
    }
   },
   "outputs": [],
   "source": [
    "# BasePath = \"data/Example/\""
   ]
  },
  {
   "cell_type": "code",
   "execution_count": 3,
   "metadata": {
    "collapsed": false,
    "jupyter": {
     "outputs_hidden": false
    },
    "pycharm": {
     "name": "#%%\n"
    }
   },
   "outputs": [],
   "source": [
    "# Files = os.listdir(BasePath)\n",
    "# print(Files)\n",
    "# TestFile = os.listdir(BasePath + Files[1])\n",
    "# print(TestFile)"
   ]
  },
  {
   "cell_type": "code",
   "execution_count": 4,
   "metadata": {
    "collapsed": false,
    "jupyter": {
     "outputs_hidden": false
    },
    "pycharm": {
     "name": "#%%\n"
    }
   },
   "outputs": [],
   "source": [
    "# def clean_data(X, extra_columns = []):\n",
    "#     print(X.head())\n",
    "#     X.drop(X[X['Status'] != 'Beëindigd'].index, inplace = True)\n",
    "#     # Add Gebruikte tijd later again.\n",
    "#     cols = ['E-mailadres', 'Voornaam', 'Achternaam', 'Status', 'Gestart op', 'Voltooid', 'Gebruikte tijd']\n",
    "\n",
    "#     if extra_columns:\n",
    "#         for i in extra_columns:\n",
    "#             cols.append(i)\n",
    "\n",
    "#     X.drop(columns= cols, inplace = True)\n",
    "#     # I hate everything about this line\n",
    "#     X = X.replace(',','.', regex=True).replace('-', '0', regex=True).astype(float).astype(int)\n",
    "#     return X\n",
    "\n",
    "# def group_y(Y, total_options_of_y):\n",
    "#     val = int(total_options_of_y/3)\n",
    "#     print(len(Y))\n",
    "#     print(type(Y))\n",
    "#     for i, y in Y.items():\n",
    "#         if y <= val :\n",
    "#             Y[i] = 0\n",
    "#         elif y >= val and y <= (val*2):\n",
    "#             Y[i] = 1\n",
    "#         elif y >= (val*2):\n",
    "#             Y[i] = 2\n",
    "#     return Y"
   ]
  },
  {
   "cell_type": "code",
   "execution_count": 5,
   "metadata": {
    "collapsed": false,
    "jupyter": {
     "outputs_hidden": false
    },
    "pycharm": {
     "name": "#%%\n"
    }
   },
   "outputs": [],
   "source": [
    "# def split_data(x_data, y_data, test_size):\n",
    "#     X_train, X_test, y_train, y_test = train_test_split(x_data, y_data, test_size=test_size)\n",
    "#     return X_train, X_test, y_train, y_test\n",
    "\n",
    "# def getXY(dataset, exclude):\n",
    "#     X = dataset.drop([exclude], axis=1)\n",
    "#     Y = dataset[exclude]\n",
    "\n",
    "#     return X, Y\n",
    "\n",
    "# def get_accuracy(Model, X, Y):\n",
    "#     predict_list = Model.predict(X)\n",
    "\n",
    "#     accuracy = accuracy_score(Y, predict_list)\n",
    "\n",
    "#     return accuracy, predict_list"
   ]
  },
  {
   "cell_type": "code",
   "execution_count": 6,
   "metadata": {
    "collapsed": false,
    "jupyter": {
     "outputs_hidden": false
    },
    "pycharm": {
     "name": "#%%\n"
    }
   },
   "outputs": [],
   "source": [
    "# Test = pd.read_csv(BasePath + Files[1] + \"/\" + TestFile[0])\n",
    "# print(Test)\n",
    "\n",
    "# # Remove all the nasty data\n",
    "# CleanTest = clean_data(Test)\n",
    "# CleanTest.head(n=2)\n",
    "\n",
    "# # Obtain X and Y to test effectiveness later\n",
    "# #X, y = getXY(CleanTest, \"Cijfer/26,00\")\n",
    "\n",
    "# # print(len(y))\n",
    "# # print(len(X))\n",
    "\n",
    "# #Y = group_y(y, 27)\n",
    "\n",
    "# # print(Y)\n",
    "# # print(len(Y))\n",
    "\n",
    "# # Obtain train Test data\n",
    "# # X_train, X_test, y_train, y_test = split_data(X, Y, 0.2)"
   ]
  },
  {
   "cell_type": "code",
   "execution_count": 7,
   "metadata": {
    "collapsed": false,
    "jupyter": {
     "outputs_hidden": false
    },
    "pycharm": {
     "name": "#%%\n"
    }
   },
   "outputs": [],
   "source": [
    "# gm = GaussianMixture(n_components=3, random_state=0).fit(X)\n",
    "#\n",
    "# acc, predict = get_accuracy(gm, X, Y)\n",
    "# print(acc)"
   ]
  },
  {
   "cell_type": "markdown",
   "metadata": {},
   "source": [
    "## Some Random plotting tests"
   ]
  },
  {
   "cell_type": "code",
   "execution_count": 8,
   "metadata": {
    "collapsed": false,
    "jupyter": {
     "outputs_hidden": false
    },
    "pycharm": {
     "name": "#%%\n"
    }
   },
   "outputs": [],
   "source": [
    "# from sklearn.cluster import KMeans\n",
    "# from sklearn.decomposition import PCA\n",
    "# import matplotlib.pyplot as plt\n",
    "#\n",
    "# #Load Data\n",
    "# pca = PCA(2)\n",
    "#\n",
    "# #Initialize the class object\n",
    "# kmeans = KMeans(n_clusters= 3)\n",
    "#\n",
    "# #predict the labels of clusters.\n",
    "# label = kmeans.fit_predict(X)\n",
    "#\n",
    "# #Transform the data\n",
    "# df = pca.fit_transform(X)\n",
    "#\n",
    "#\n",
    "# #Getting unique labels\n",
    "# u_labels = np.unique(label)\n",
    "#\n",
    "# #plotting the results:\n",
    "# for i in u_labels:\n",
    "#     plt.scatter(df[label == i , 0] , df[label == i , 1] , label = i)\n",
    "# plt.legend()\n",
    "# plt.show()\n",
    "#\n",
    "# # kmeans = KMeans(n_clusters=27, random_state=0).fit(X)\n",
    "#\n",
    "# # acc = get_accuracy(gm, X_test, y_test)"
   ]
  },
  {
   "cell_type": "markdown",
   "metadata": {},
   "source": [
    "## Lucas' Code time for fun and goodness (and maybe clustering based on specific features not from the test scores)\n",
    "\n",
    "### using exclusively the ctrl+c and ctrl+v keys"
   ]
  },
  {
   "cell_type": "code",
   "execution_count": 9,
   "metadata": {
    "collapsed": false,
    "jupyter": {
     "outputs_hidden": false
    },
    "pycharm": {
     "name": "#%%\n"
    }
   },
   "outputs": [],
   "source": [
    "# Now that we can cluster students based on the features extracted from the process lables (kind of they all seem to be in the -1 class?)\n",
    "# We can now combine these features with the features extracted by Ylja and link them based on username"
   ]
  },
  {
   "cell_type": "code",
   "execution_count": 46,
   "metadata": {
    "collapsed": false,
    "jupyter": {
     "outputs_hidden": false
    },
    "pycharm": {
     "name": "#%%\n"
    }
   },
   "outputs": [
    {
     "name": "stderr",
     "output_type": "stream",
     "text": [
      "/tmp/ipykernel_3281920/543352301.py:263: FutureWarning: The default value of regex will change from True to False in a future version.\n",
      "  user_df['Username'] = user_df['Username'].str.replace('.combined.csv','')\n"
     ]
    },
    {
     "data": {
      "image/png": "[encoded data removed]",
      "text/plain": [
       "<Figure size 432x288 with 1 Axes>"
      ]
     },
     "metadata": {
      "needs_background": "light"
     },
     "output_type": "display_data"
    },
    {
     "name": "stdout",
     "output_type": "stream",
     "text": [
      "Class 0 has ['Low Time_spent_MC.P.2', 'Low Mean_time_MC.P.2', 'Low Mean_time_MC.P.3', 'Low Time_spent_MC.P.3']\n",
      "Class 1 has ['High Time_spent_MC.P.2', 'High Mean_time_MC.P.2', 'Low Times_performed_MC.P.3', 'Low Percent_time_MC.P.2']\n",
      "Class 2 has ['High Mean_time_MC.P.3', 'High Time_spent_MC.P.3', 'Low Times_performed_MC.P.3', 'Low Percent_time_MC.P.3']\n",
      "{'MC.P.2': 'Learners open planner tool and make personal plan after reading instruction', 'MC.P.3': 'Learners open planner tool and make personal plan in the first 15 mins'}\n"
     ]
    }
   ],
   "source": [
    "from sklearn.cluster import DBSCAN\n",
    "import csv\n",
    "from datetime import datetime\n",
    "# which features will we use? lets set out some cognition features\n",
    "# the two different goodness values can be knowledge gained or score in post-test\n",
    "# lets first take in the process labesl\n",
    "\n",
    "def fix(X):\n",
    "    # making sure the users arent clustered on username\n",
    "    try:\n",
    "        X = X.drop(columns = [\"Username\"])\n",
    "    except:\n",
    "        pass\n",
    "    X = (X-X.mean())/X.std()\n",
    "    # filling the nan values\n",
    "    X = X.fillna(0)\n",
    "    return X\n",
    "\n",
    "def load_process_features_study_f(BasePath_f, f):\n",
    "  data = pd.read_csv(BasePath_f + f)\n",
    "\n",
    "  features = {}\n",
    "\n",
    "  features[\"Username\"] = data['Username'][0]\n",
    "\n",
    "  proc_labels = np.unique(np.array(data[\"Process Label\"]))\n",
    "  data[\"Process_Time_Spent\"] = data[\"Process End Time\"] - data[\"Process Start Time\"]\n",
    "  max_time = np.max(data[\"Process End Time\"])\n",
    "  # unsure if we want to keep no pattern because they did do something here\n",
    "  # proc_labels.remove(\"NO_PATTERN\")\n",
    "  for proc in proc_labels:\n",
    "      proc_rows = data[data[\"Process Label\"] == proc]\n",
    "\n",
    "      # feature #1 total time spent on processes\n",
    "      features[(\"Time_spent_\"+proc)] = [(proc_rows[\"Process_Time_Spent\"]/100).sum()]\n",
    "\n",
    "      # feature #2 mean time per session process session\n",
    "      features[(\"Mean_time_\"+proc)] = [(proc_rows[\"Process_Time_Spent\"]/100).mean()]\n",
    "\n",
    "      # feature #3 amount of times they did a process\n",
    "      features[(\"Times_performed_\"+proc)] = [proc_rows[\"Process_Time_Spent\"].count()]\n",
    "\n",
    "      # feature #4 percentage of time spent on a process\n",
    "      features[(\"Percent_time_\"+proc)] = [(proc_rows[\"Process_Time_Spent\"]/100).sum()/max_time]\n",
    " \n",
    "  # return the features as a df\n",
    "  return pd.DataFrame.from_dict(features)\n",
    "\n",
    "\n",
    "def load_process_features_study_3(c_file):\n",
    "  features = {}\n",
    "  cleaned = []\n",
    "  with open(BasePath_3 + c_file, newline='', encoding='utf8') as csvfile:\n",
    "      spamreader = csv.reader(csvfile, delimiter=' ', quotechar='|')\n",
    "      for row in spamreader:\n",
    "          real = (', '.join(row))\n",
    "          if real.count(\",\") == 9:\n",
    "              cleaned.append(np.array(real.split(\",\")))\n",
    "  cleaned = np.array(cleaned)\n",
    "  data = pd.DataFrame(cleaned, columns = [\"logid\", \"actionid\", \"patternid\", \"date\", \"time\",\t\"log_label\", \"action_label\", \"pattern_label\", \"pattern_span\", \"log_value\"])\n",
    "\n",
    "  features[\"Username\"] = c_file.split(\",\")[0]\n",
    "  # creating the time spent column\n",
    "\n",
    "  time = list(data[\"time\"])\n",
    "  time.insert(0, time[0])\n",
    "  time_spent = []\n",
    "  FMT = ' %H:%M:%S'\n",
    "  for i in range(1,len(time)):\n",
    "      tdelta = datetime.strptime(time[i], FMT) - datetime.strptime(time[i-1], FMT)\n",
    "      time_spent.append(tdelta.total_seconds())\n",
    "\n",
    "  data[\"Process_Time_Spent\"] = time_spent\n",
    "  proc_labels = np.unique(np.array(data[\"pattern_label\"]))\n",
    "\n",
    "\n",
    "  max_time = data[\"Process_Time_Spent\"].sum()\n",
    "\n",
    "  proc_labels= list(filter(None, proc_labels))\n",
    "\n",
    "  # unsure if we want to keep no pattern because they did do something here\n",
    "  # proc_labels.remove(\"NO_PATTERN\")\n",
    "\n",
    "  for proc in proc_labels:\n",
    "      proc_rows = data[data[\"pattern_label\"] == proc]\n",
    "\n",
    "      # feature #1 total time spent on processes\n",
    "      features[(\"Time_spent_\"+proc)] = [proc_rows[\"Process_Time_Spent\"].sum()]\n",
    "\n",
    "      # feature #2 mean time per session process session\n",
    "      features[(\"Mean_time_\"+proc)] = [proc_rows[\"Process_Time_Spent\"].mean()]\n",
    "\n",
    "      # feature #3 amount of times they did a process\n",
    "      features[(\"Times_performed_\"+proc)] = [proc_rows[\"Process_Time_Spent\"].count()]\n",
    "\n",
    "      # feature #4 percentage of time spent on a process\n",
    "      features[(\"Percent_time_\"+proc)] = [proc_rows[\"Process_Time_Spent\"].sum()/max_time]\n",
    "\n",
    "  # return the features as a df\n",
    "  return pd.DataFrame.from_dict(features)\n",
    "\n",
    "def cluster(df):\n",
    "  # removing the username from the data if its there and also reducing to the features \n",
    "  # that were requested by the user (boolean map)\n",
    "  df = fix(df)\n",
    "\n",
    "  # df = df.loc[:, features]\n",
    "  # creating labels for the users\n",
    "\n",
    "  # clustering = DBSCAN(eps=7, min_samples=4).fit(X)\n",
    "  # return clustering.labels_\n",
    "\n",
    "  kmeans = KMeans(n_clusters= 3)\n",
    "  clustering = kmeans.fit_predict(df)\n",
    "\n",
    "  return clustering\n",
    "\n",
    "def create_X(user_df, labels):\n",
    "\n",
    "  X = fix(user_df)\n",
    "\n",
    "  labels = pd.DataFrame(labels)\n",
    "\n",
    "  # selecting only the features the users chose\n",
    "  # X = user_df[features_chosen]\n",
    "\n",
    "  #Load Data into pca\n",
    "  pca = PCA(2)\n",
    "\n",
    "  #Transform the data into 2 dimensions\n",
    "  X = pca.fit_transform(X)\n",
    "  X = pd.DataFrame(X)\n",
    "\n",
    "  result = pd.concat([X, labels], axis=1)\n",
    "\n",
    "  result.columns = ['x', 'y', 'label']\n",
    "\n",
    "  return result\n",
    "\n",
    "def plot(X):\n",
    "  u_labels = X['label'].unique()\n",
    "\n",
    "  for i in u_labels:\n",
    "      plt.scatter(X['x'].loc[X['label'] == i],\n",
    "                  X['y'].loc[X['label'] == i],\n",
    "                  label = i)\n",
    "  plt.legend()\n",
    "  plt.show()\n",
    "\n",
    "def important_features(user_df, labels):\n",
    "  # how many imortant features do you want?\n",
    "  num_important = 4\n",
    "\n",
    "  # getting the unique labels of the clusters to see whats important about them\n",
    "  u_labels = np.unique(labels)\n",
    "\n",
    "  # reducing the amount of features to that chosen by the user\n",
    "  df = fix(user_df)\n",
    "  \n",
    "  # creating the averages for each features and each label to compare them\n",
    "  avgs = pd.DataFrame(columns = df.columns)\n",
    "  avgs_abs = pd.DataFrame(columns = df.columns)\n",
    "  avgs.loc[0] = list(df.mean(axis=0))\n",
    "  important_features_lst = []\n",
    "\n",
    "  # appending in the df the averages for each label of each feature\n",
    "  for i in u_labels:\n",
    "    label_avg = list(df[labels == i].mean(axis=0))\n",
    "    avgs.loc[i + 1] = label_avg\n",
    "\n",
    "    # finding which class features have the highest difference from the mean\n",
    "    avgs_abs.loc[i] = np.abs(avgs.loc[0] - avgs.loc[i + 1])\n",
    "    important = np.array(avgs_abs.loc[i]).argsort()[-num_important:][::-1]\n",
    "\n",
    "    feature_list = []\n",
    "    for feature in important:\n",
    "      if avgs.iloc[i + 1, feature] > 0:\n",
    "        feature_list.append((\"High \"+str(avgs.columns[feature])))\n",
    "      else:\n",
    "        feature_list.append((\"Low \"+str(avgs.columns[feature])))\n",
    "    important_features_lst.append(feature_list)\n",
    "  \n",
    "  for i in range(len(important_features_lst)):\n",
    "    print(\"Class\",i,\"has\",important_features_lst[i])\n",
    "\n",
    "  # alternatively to printing we make a list:\n",
    "  return important_features_lst\n",
    "\n",
    "def explain(important_features_lst):\n",
    "  explain_df = pd.read_csv(r\"data/label_names.csv\")\n",
    "  features = np.array(important_features_lst).flatten()\n",
    "  iso_features = []\n",
    "  [iso_features.append(f.split(\"_\")[-1]) for f in features]\n",
    "  iso_features = np.unique(np.array(iso_features))\n",
    "\n",
    "  explained = {}\n",
    "  for f in iso_features:\n",
    "    try:\n",
    "      out =  explain_df[explain_df[\"Pattern No.\"] == f].iloc[:, 2]\n",
    "      explained[f] = out.iloc[0]\n",
    "    except:\n",
    "      continue\n",
    "  print(explained)\n",
    "\n",
    "def reduce_df(user_df, features_chosen):\n",
    "  columns = list(user_df.columns)\n",
    "  remaining = np.zeros(len(columns))\n",
    "  remaining[0] = 1\n",
    "  for feature in features_chosen:\n",
    "    keep = [col.split(\"_\")[-1] == feature for col in columns]\n",
    "    remaining = remaining + keep\n",
    "  reduced = user_df.loc[:, remaining.astype(bool)]\n",
    "  return reduced\n",
    "\n",
    "def users_features(reduced_df):\n",
    "    # Here i define the user making the request\n",
    "    normalized_df = reduced_df.fillna(0)\n",
    "    normalized_df=(reduced_df.drop(columns = ['Username'])-reduced_df.drop(columns = ['Username']).mean())/reduced_df.drop(columns = ['Username']).std()\n",
    "    normalized_df['Username'] = reduced_df[\"Username\"]\n",
    "\n",
    "#     here you choose the username but this should be an api thing\n",
    "    user_making_request = list(normalized_df['Username'])[46]\n",
    "\n",
    "    differences = []\n",
    "\n",
    "    users_list = np.array(normalized_df[normalized_df['Username'] == user_making_request])[0,:-1]\n",
    "\n",
    "    for user_comp in list(normalized_df['Username']):\n",
    "        row_values = []\n",
    "        values = np.abs(users_list - np.array(normalized_df[normalized_df['Username'] == user_comp])[0,:-1])\n",
    "        row_values.append(normalized_df.columns[np.argmax(values)])\n",
    "        row_values.append(normalized_df.columns[np.argmin(values)])\n",
    "        differences.append(row_values)\n",
    "\n",
    "    differences_df = pd.DataFrame(differences, columns = [\"Biggest Difference\", \"Smallest Difference\"])\n",
    "    differences_df[\"username\"] = list(normalized_df[\"Username\"])\n",
    "    return differences_df\n",
    "\n",
    "# ==================== main\n",
    "\n",
    "users = []\n",
    "\n",
    "BasePath_3 = r\"data/flora Data/Study 3/\"\n",
    "files_3 = os.listdir(BasePath_3)\n",
    "\n",
    "# getting the combined files\n",
    "combined_files = []\n",
    "for x in files_3:\n",
    "    if \"combined.csv\" in x:\n",
    "        combined_files.append(x)\n",
    "\n",
    "BasePath_f = r\"data/Future/Process label/\"\n",
    "files_f = os.listdir(BasePath_f)\n",
    "for f in files_f:\n",
    "  users.append(load_process_features_study_f(BasePath_f, f))\n",
    "\n",
    "for c_file in combined_files:\n",
    "  users.append(load_process_features_study_3(c_file))\n",
    "\n",
    "user_df = pd.concat(users)\n",
    "\n",
    "# print(list(user_df.columns))\n",
    "\n",
    "user_df['Username'] = user_df['Username'].str.replace('.combined.csv','')\n",
    "\n",
    "# here i set all features to be chosen for clustering in future this should be chosen by user\n",
    "features_chosen = pd.read_csv(r\"data/label_names.csv\")\n",
    "features_chosen = list(features_chosen[\"Pattern No.\"])\n",
    "\n",
    "features_chosen = features_chosen[5:7]\n",
    "\n",
    "reduced_df = reduce_df(user_df, features_chosen)\n",
    "\n",
    "labels = cluster(reduced_df)\n",
    "X = create_X(reduced_df, labels)\n",
    "plot(X)\n",
    "\n",
    "user_diff_df = users_features(reduced_df)\n",
    "    \n",
    "# here i make a list where the index is the class and the contents is a list of what each class is distinctive at\n",
    "important_features_lst = important_features(reduced_df, labels)\n",
    "\n",
    "# making a dictionary that explains each pattern label\n",
    "features_explained = explain(important_features_lst)\n"
   ]
  },
  {
   "cell_type": "code",
   "execution_count": 50,
   "metadata": {},
   "outputs": [
    {
     "name": "stdout",
     "output_type": "stream",
     "text": [
      "              x             y  label  username      Biggest Difference  \\\n",
      "0  1.414884e-01  2.826617e-01      0  fsh1_123  Times_performed_MC.P.2   \n",
      "1  2.966450e-16  1.674156e-16      0  fsh1_131       Time_spent_MC.P.2   \n",
      "2  2.142551e-01  3.435102e+00      1  fsp4_221        Mean_time_MC.P.2   \n",
      "3  2.034253e-16  1.753912e-16      0  fsp4_230       Time_spent_MC.P.2   \n",
      "4 -1.039478e-15  2.710485e-16      0  fsh1_111       Time_spent_MC.P.2   \n",
      "\n",
      "   Smallest Difference  \n",
      "0  Percent_time_MC.P.2  \n",
      "1    Time_spent_MC.P.2  \n",
      "2  Percent_time_MC.P.2  \n",
      "3    Time_spent_MC.P.2  \n",
      "4    Time_spent_MC.P.2  \n"
     ]
    }
   ],
   "source": [
    "user_df = user_df.reset_index(drop=True) # Reset index to work with concat\n",
    "\n",
    "result_df = pd.concat([X, user_df['Username']], axis=1)\n",
    "result_df.rename(columns={\"Username\": \"username\"}, inplace=True)\n",
    "result_df = result_df.join(user_diff_df.set_index(\"username\"), on=\"username\")\n",
    "\n",
    "print(result_df.head())"
   ]
  },
  {
   "cell_type": "code",
   "execution_count": 12,
   "metadata": {
    "collapsed": false,
    "jupyter": {
     "outputs_hidden": false
    },
    "pycharm": {
     "name": "#%%\n"
    }
   },
   "outputs": [
    {
     "name": "stdout",
     "output_type": "stream",
     "text": [
      "{0: {'users': [{'x': 0.16648186690847133, 'y': 0.21754698310574894, 'username': 'fsh1_123'}, {'x': 0.4751506261947895, 'y': 2.2030743988283654, 'username': 'fsp4_221'}, {'x': 6.600117267454944e-17, 'y': -1.3409913603802893e-17, 'username': 'fsp4_230'}, {'x': -2.835168156582362e-16, 'y': -4.105503965382613e-16, 'username': 'fsh1_111'}, {'x': 0.11629925293805622, 'y': 0.00467534196441326, 'username': 'fsh1_105'}, {'x': 8.315851662999579e-17, 'y': -6.272119119600862e-17, 'username': 'fsh1_115'}, {'x': 0.33411636247343945, 'y': 0.5216227742819023, 'username': 'fsh1_127'}, {'x': 0.04988766629131812, 'y': 0.2996831668009738, 'username': 'fsh1_106'}, {'x': 0.2741216537246966, 'y': 1.381745067012808, 'username': 'fsh1_129'}, {'x': 2.36249897724603e-17, 'y': 6.453042317594606e-17, 'username': 'fsh1_118'}, {'x': 0.04904429195288189, 'y': -0.010127097841366057, 'username': 'fsp4_503'}, {'x': 0.5307895420196691, 'y': 1.2929891543117022, 'username': 'fsh1_133'}, {'x': -1.0183898560278946, 'y': -0.06366079604874808, 'username': 'fsh1_122'}, {'x': -1.1881599105894784e-17, 'y': -2.033052518807886e-17, 'username': 'fsh1_128'}, {'x': -1.1881599105894784e-17, 'y': -2.033052518807886e-17, 'username': 'fsh1_104'}, {'x': -0.31522403308016195, 'y': 0.4395947603221472, 'username': 'fsh1_119'}, {'x': -0.3225048318032027, 'y': 0.44321944024860294, 'username': 'fsh1_101'}, {'x': -1.1881599105894784e-17, 'y': -2.033052518807886e-17, 'username': 'fsp4_229'}, {'x': -1.1881599105894784e-17, 'y': -2.033052518807886e-17, 'username': 'fsh1_102'}, {'x': -1.1881599105894784e-17, 'y': -2.033052518807886e-17, 'username': 'fsp4_232'}, {'x': -1.1881599105894784e-17, 'y': -2.033052518807886e-17, 'username': 'fsh1_110'}, {'x': -0.10555514920010602, 'y': 0.4788448726795616, 'username': 'fsh1_113'}, {'x': 0.14060354624539576, 'y': 0.10780134440186212, 'username': 'fsh1_130'}, {'x': -1.1881599105894784e-17, 'y': -2.033052518807886e-17, 'username': 'fsh1_109'}, {'x': 1.2265734014756566, 'y': 0.05664272165957368, 'username': 'fsh2_003'}, {'x': 1.8749463600406, 'y': -0.2968553570132481, 'username': 'fsh1_126'}, {'x': 0.8280566232167693, 'y': 0.1917795417295557, 'username': 'fsh1_108'}, {'x': -1.1881599105894784e-17, 'y': -2.033052518807886e-17, 'username': 'fsp4_228'}, {'x': -1.1881599105894784e-17, 'y': -2.033052518807886e-17, 'username': 'fsp4_219'}, {'x': -1.1881599105894784e-17, 'y': -2.033052518807886e-17, 'username': 'fsh1_116'}, {'x': -0.1401695855059346, 'y': 0.49523268526888675, 'username': 'fsh1_117'}, {'x': 0.08409557738815583, 'y': 0.5306716895088386, 'username': 'fsh1_112'}, {'x': 0.29453958320750684, 'y': 0.5748573114986626, 'username': 'fsh1_006'}, {'x': 0.19675096490152935, 'y': 0.2492261829286242, 'username': 'fsh2_001'}, {'x': -1.1881599105894784e-17, 'y': -2.033052518807886e-17, 'username': 'fsh1_124'}, {'x': -1.1881599105894784e-17, 'y': -2.033052518807886e-17, 'username': 'fsp4_220'}, {'x': -0.02848352068992773, 'y': 0.2998986696681239, 'username': 'fsh1_107'}, {'x': -1.1881599105894784e-17, 'y': -2.033052518807886e-17, 'username': 'fsp4_222'}, {'x': 0.22793247546738793, 'y': 0.476854172330296, 'username': 'fsh1_120'}, {'x': -1.1881599105894784e-17, 'y': -2.033052518807886e-17, 'username': 'fsp4_227'}, {'x': 0.2161259333904619, 'y': 0.31920572506012385, 'username': 'fsh1_114'}, {'x': -1.1881599105894784e-17, 'y': -2.033052518807886e-17, 'username': 'fsh1_125'}, {'x': 0.4741881300466977, 'y': 0.203607145166863, 'username': 'fsh1_121'}, {'x': -0.37218124510845996, 'y': -0.5984180420226035, 'username': 'fsc3_025'}, {'x': -0.07575645879410982, 'y': -0.23972775397503335, 'username': 'fsg3_018'}, {'x': -0.3297193152440531, 'y': 0.44671775870493863, 'username': 'fsc3_012'}, {'x': -1.1881599105894784e-17, 'y': -2.033052518807886e-17, 'username': 'fsg3_016'}, {'x': 0.022030470924404886, 'y': -0.11825037216710942, 'username': 'fsc3_013'}, {'x': -1.1881599105894784e-17, 'y': -2.033052518807886e-17, 'username': 'fsg3_012'}, {'x': -0.8637112918416813, 'y': -3.0564277981466046, 'username': 'fsg3_027'}, {'x': -1.1881599105894784e-17, 'y': -2.033052518807886e-17, 'username': 'fsg3_031'}, {'x': -1.1881599105894784e-17, 'y': -2.033052518807886e-17, 'username': 'fsg3_017'}, {'x': -0.3297193152440531, 'y': 0.44671775870493863, 'username': 'fsc3_030'}, {'x': -1.1881599105894784e-17, 'y': -2.033052518807886e-17, 'username': 'fsc3_020'}, {'x': 0.02174119294629747, 'y': -0.11863275458370331, 'username': 'fsc3_035'}, {'x': -1.1881599105894784e-17, 'y': -2.033052518807886e-17, 'username': 'fsc3_033'}, {'x': -1.1999487368186725, 'y': -1.3194897417686304, 'username': 'fsg3_024'}, {'x': -1.1881599105894784e-17, 'y': -2.033052518807886e-17, 'username': 'fsg3_008'}, {'x': -1.1881599105894784e-17, 'y': -2.033052518807886e-17, 'username': 'fsg3_019'}, {'x': -0.020692999808895753, 'y': -0.1637745868280085, 'username': 'fsc3_036'}, {'x': -1.4138076436565874, 'y': -1.00279587941656, 'username': 'fsc3_022'}, {'x': -0.7391931490011616, 'y': -1.1983948205034785, 'username': 'fsg3_028'}, {'x': -0.33958687148719613, 'y': -0.5487321827503967, 'username': 'fsg3_023'}, {'x': -1.1881599105894784e-17, 'y': -2.033052518807886e-17, 'username': 'fsg3_025'}, {'x': -1.1881599105894784e-17, 'y': -2.033052518807886e-17, 'username': 'fsg3_021'}, {'x': -1.1881599105894784e-17, 'y': -2.033052518807886e-17, 'username': 'fsc3_014'}, {'x': -0.0911474267664306, 'y': -0.3026600247070974, 'username': 'fsc3_027'}, {'x': -0.7876026725575161, 'y': -0.47402460840694305, 'username': 'fsc3_034'}, {'x': -1.1881599105894784e-17, 'y': -2.033052518807886e-17, 'username': 'fsc3_021'}, {'x': -0.20023927456162888, 'y': 0.4497287994929766, 'username': 'fsg3_013'}, {'x': -1.1881599105894784e-17, 'y': -2.033052518807886e-17, 'username': 'fsg3_014'}, {'x': -1.1881599105894784e-17, 'y': -2.033052518807886e-17, 'username': 'fsg3_030'}, {'x': -1.1881599105894784e-17, 'y': -2.033052518807886e-17, 'username': 'fsc3_018'}, {'x': -0.1598300302814067, 'y': -0.5146957835693639, 'username': 'fsc3_016'}, {'x': -1.1881599105894784e-17, 'y': -2.033052518807886e-17, 'username': 'fsg3_032'}, {'x': -1.1881599105894784e-17, 'y': -2.033052518807886e-17, 'username': 'fsg3_036'}, {'x': -1.1881599105894784e-17, 'y': -2.033052518807886e-17, 'username': 'fsg3_026'}, {'x': -1.1881599105894784e-17, 'y': -2.033052518807886e-17, 'username': 'fsg3_010'}, {'x': -0.28337814477007595, 'y': -0.9015050540405463, 'username': 'fsc3_031'}, {'x': -0.06400693717327169, 'y': -0.2174308826964964, 'username': 'fsc3_037'}, {'x': -0.22754343297153465, 'y': 0.1033430561210619, 'username': 'fsg3_006'}, {'x': -0.253468329447723, 'y': 0.06373892296599716, 'username': 'fsg3_035'}, {'x': -0.7488788039153457, 'y': 0.08127726418379244, 'username': 'fsc3_028'}, {'x': -1.1881599105894784e-17, 'y': -2.033052518807886e-17, 'username': 'fsc3_010'}, {'x': -1.1881599105894784e-17, 'y': -2.033052518807886e-17, 'username': 'fsg3_034'}, {'x': -1.1881599105894784e-17, 'y': -2.033052518807886e-17, 'username': 'fsg3_029'}, {'x': -1.1881599105894784e-17, 'y': -2.033052518807886e-17, 'username': 'fsc3_024'}, {'x': -0.5560532320702221, 'y': -0.002001853817156235, 'username': 'fsg3_011'}, {'x': -1.1881599105894784e-17, 'y': -2.033052518807886e-17, 'username': 'fsg3_007'}, {'x': -0.1760796545835077, 'y': -0.5640986500361056, 'username': 'fsc3_032'}, {'x': -1.2919672423889002, 'y': -0.2575798960473869, 'username': 'fsc3_019'}, {'x': -1.1881599105894784e-17, 'y': -2.033052518807886e-17, 'username': 'fsc3_011'}, {'x': -0.36427697674596526, 'y': 0.30014806890154955, 'username': 'fsg3_022'}, {'x': -1.1881599105894784e-17, 'y': -2.033052518807886e-17, 'username': 'fsc3_015'}, {'x': -1.1881599105894784e-17, 'y': -2.033052518807886e-17, 'username': 'fsc3_017'}, {'x': -0.6127074603175707, 'y': 0.18468282665036664, 'username': 'fsg3_037'}, {'x': -1.1881599105894784e-17, 'y': -2.033052518807886e-17, 'username': 'fsc3_029'}, {'x': -1.1881599105894784e-17, 'y': -2.033052518807886e-17, 'username': 'fsg3_038'}, {'x': -1.1881599105894784e-17, 'y': -2.0330525188078864e-17, 'username': 'fsg3_020'}, {'x': -0.08598806631535955, 'y': -0.28276913398509157, 'username': 'fsc3_026'}, {'x': -1.5367662514158684, 'y': -1.9689389176286332, 'username': 'fsg3_009'}, {'x': -1.1881599105894786e-17, 'y': -2.0330525188078864e-17, 'username': 'fsg3_005'}, {'x': -0.09047375726910697, 'y': -0.30168772127752663, 'username': 'fsg3_015'}, {'x': -0.33666828233690016, 'y': 0.3750555144816928, 'username': 'fsc3_023'}, {'x': -1.1881599105894786e-17, 'y': -2.0330525188078864e-17, 'username': 'fsc3_038'}]}, 1: {'users': [{'x': 6.7296838494865, 'y': -2.521134060967632, 'username': 'fsh2_002'}]}, 2: {'users': [{'x': 1.1485606079597457, 'y': 3.803630651260519, 'username': 'fsh1_131'}]}}\n"
     ]
    }
   ],
   "source": [
    "# d = (X.groupby('labels')\n",
    "#      .apply(lambda x: dict(zip(x['X'],x['y'])))\n",
    "#      .to_dict())\n",
    "\n",
    "result = dict()\n",
    "for label in sorted(result_df['label'].unique()):\n",
    "     label = int(label)\n",
    "\n",
    "     result[label] = {\n",
    "          'users':result_df[result_df['label'] == label].drop(columns=['label']).to_dict(orient=\"records\")\n",
    "     }\n",
    "\n",
    "print(result)"
   ]
  },
  {
   "cell_type": "code",
   "execution_count": 13,
   "metadata": {
    "collapsed": false,
    "jupyter": {
     "outputs_hidden": false
    },
    "pycharm": {
     "name": "#%%\n"
    }
   },
   "outputs": [],
   "source": [
    "import json\n",
    "with open('api/result.json', 'w') as fp:\n",
    "    json.dump(result, fp)"
   ]
  },
  {
   "cell_type": "code",
   "execution_count": null,
   "metadata": {},
   "outputs": [],
   "source": []
  }
 ],
 "metadata": {
  "interpreter": {
   "hash": "d2899d0ae941dbc14ef6ec8497108d9bc54ab3d95533fbfc43b41178a815d611"
  },
  "kernelspec": {
   "display_name": "Python 3 (ipykernel)",
   "language": "python",
   "name": "python3"
  },
  "language_info": {
   "codemirror_mode": {
    "name": "ipython",
    "version": 3
   },
   "file_extension": ".py",
   "mimetype": "text/x-python",
   "name": "python",
   "nbconvert_exporter": "python",
   "pygments_lexer": "ipython3",
   "version": "3.8.10"
  }
 },
 "nbformat": 4,
 "nbformat_minor": 4
}
