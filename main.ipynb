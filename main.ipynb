{
 "cells": [
  {
   "cell_type": "code",
   "execution_count": 1,
   "metadata": {},
   "outputs": [],
   "source": [
    "import os\n",
    "import pandas as pd\n",
    "import numpy as np\n",
    "from sklearn.mixture import GaussianMixture\n",
    "from sklearn.model_selection import train_test_split\n",
    "from sklearn.metrics import accuracy_score\n",
    "from sklearn.cluster import KMeans\n",
    "from sklearn.decomposition import PCA\n",
    "import matplotlib.pyplot as plt"
   ]
  },
  {
   "cell_type": "code",
   "execution_count": 2,
   "metadata": {
    "collapsed": false,
    "jupyter": {
     "outputs_hidden": false
    },
    "pycharm": {
     "name": "#%%\n"
    }
   },
   "outputs": [],
   "source": [
    "# BasePath = \"data/Example/\""
   ]
  },
  {
   "cell_type": "code",
   "execution_count": 3,
   "metadata": {
    "collapsed": false,
    "jupyter": {
     "outputs_hidden": false
    },
    "pycharm": {
     "name": "#%%\n"
    }
   },
   "outputs": [],
   "source": [
    "# Files = os.listdir(BasePath)\n",
    "# print(Files)\n",
    "# TestFile = os.listdir(BasePath + Files[1])\n",
    "# print(TestFile)"
   ]
  },
  {
   "cell_type": "code",
   "execution_count": 4,
   "metadata": {
    "collapsed": false,
    "jupyter": {
     "outputs_hidden": false
    },
    "pycharm": {
     "name": "#%%\n"
    }
   },
   "outputs": [],
   "source": [
    "# def clean_data(X, extra_columns = []):\n",
    "#     print(X.head())\n",
    "#     X.drop(X[X['Status'] != 'Beëindigd'].index, inplace = True)\n",
    "#     # Add Gebruikte tijd later again.\n",
    "#     cols = ['E-mailadres', 'Voornaam', 'Achternaam', 'Status', 'Gestart op', 'Voltooid', 'Gebruikte tijd']\n",
    "\n",
    "#     if extra_columns:\n",
    "#         for i in extra_columns:\n",
    "#             cols.append(i)\n",
    "\n",
    "#     X.drop(columns= cols, inplace = True)\n",
    "#     # I hate everything about this line\n",
    "#     X = X.replace(',','.', regex=True).replace('-', '0', regex=True).astype(float).astype(int)\n",
    "#     return X\n",
    "\n",
    "# def group_y(Y, total_options_of_y):\n",
    "#     val = int(total_options_of_y/3)\n",
    "#     print(len(Y))\n",
    "#     print(type(Y))\n",
    "#     for i, y in Y.items():\n",
    "#         if y <= val :\n",
    "#             Y[i] = 0\n",
    "#         elif y >= val and y <= (val*2):\n",
    "#             Y[i] = 1\n",
    "#         elif y >= (val*2):\n",
    "#             Y[i] = 2\n",
    "#     return Y"
   ]
  },
  {
   "cell_type": "code",
   "execution_count": 5,
   "metadata": {
    "collapsed": false,
    "jupyter": {
     "outputs_hidden": false
    },
    "pycharm": {
     "name": "#%%\n"
    }
   },
   "outputs": [],
   "source": [
    "# def split_data(x_data, y_data, test_size):\n",
    "#     X_train, X_test, y_train, y_test = train_test_split(x_data, y_data, test_size=test_size)\n",
    "#     return X_train, X_test, y_train, y_test\n",
    "\n",
    "# def getXY(dataset, exclude):\n",
    "#     X = dataset.drop([exclude], axis=1)\n",
    "#     Y = dataset[exclude]\n",
    "\n",
    "#     return X, Y\n",
    "\n",
    "# def get_accuracy(Model, X, Y):\n",
    "#     predict_list = Model.predict(X)\n",
    "\n",
    "#     accuracy = accuracy_score(Y, predict_list)\n",
    "\n",
    "#     return accuracy, predict_list"
   ]
  },
  {
   "cell_type": "code",
   "execution_count": 6,
   "metadata": {
    "collapsed": false,
    "jupyter": {
     "outputs_hidden": false
    },
    "pycharm": {
     "name": "#%%\n"
    }
   },
   "outputs": [],
   "source": [
    "# Test = pd.read_csv(BasePath + Files[1] + \"/\" + TestFile[0])\n",
    "# print(Test)\n",
    "\n",
    "# # Remove all the nasty data\n",
    "# CleanTest = clean_data(Test)\n",
    "# CleanTest.head(n=2)\n",
    "\n",
    "# # Obtain X and Y to test effectiveness later\n",
    "# #X, y = getXY(CleanTest, \"Cijfer/26,00\")\n",
    "\n",
    "# # print(len(y))\n",
    "# # print(len(X))\n",
    "\n",
    "# #Y = group_y(y, 27)\n",
    "\n",
    "# # print(Y)\n",
    "# # print(len(Y))\n",
    "\n",
    "# # Obtain train Test data\n",
    "# # X_train, X_test, y_train, y_test = split_data(X, Y, 0.2)"
   ]
  },
  {
   "cell_type": "code",
   "execution_count": 7,
   "metadata": {
    "collapsed": false,
    "jupyter": {
     "outputs_hidden": false
    },
    "pycharm": {
     "name": "#%%\n"
    }
   },
   "outputs": [],
   "source": [
    "# gm = GaussianMixture(n_components=3, random_state=0).fit(X)\n",
    "#\n",
    "# acc, predict = get_accuracy(gm, X, Y)\n",
    "# print(acc)"
   ]
  },
  {
   "cell_type": "markdown",
   "metadata": {},
   "source": [
    "## Some Random plotting tests"
   ]
  },
  {
   "cell_type": "code",
   "execution_count": 8,
   "metadata": {
    "collapsed": false,
    "jupyter": {
     "outputs_hidden": false
    },
    "pycharm": {
     "name": "#%%\n"
    }
   },
   "outputs": [],
   "source": [
    "# from sklearn.cluster import KMeans\n",
    "# from sklearn.decomposition import PCA\n",
    "# import matplotlib.pyplot as plt\n",
    "#\n",
    "# #Load Data\n",
    "# pca = PCA(2)\n",
    "#\n",
    "# #Initialize the class object\n",
    "# kmeans = KMeans(n_clusters= 3)\n",
    "#\n",
    "# #predict the labels of clusters.\n",
    "# label = kmeans.fit_predict(X)\n",
    "#\n",
    "# #Transform the data\n",
    "# df = pca.fit_transform(X)\n",
    "#\n",
    "#\n",
    "# #Getting unique labels\n",
    "# u_labels = np.unique(label)\n",
    "#\n",
    "# #plotting the results:\n",
    "# for i in u_labels:\n",
    "#     plt.scatter(df[label == i , 0] , df[label == i , 1] , label = i)\n",
    "# plt.legend()\n",
    "# plt.show()\n",
    "#\n",
    "# # kmeans = KMeans(n_clusters=27, random_state=0).fit(X)\n",
    "#\n",
    "# # acc = get_accuracy(gm, X_test, y_test)"
   ]
  },
  {
   "cell_type": "markdown",
   "metadata": {},
   "source": [
    "## Lucas' Code time for fun and goodness (and maybe clustering based on specific features not from the test scores)\n",
    "\n",
    "### using exclusively the ctrl+c and ctrl+v keys"
   ]
  },
  {
   "cell_type": "code",
   "execution_count": 9,
   "metadata": {
    "collapsed": false,
    "jupyter": {
     "outputs_hidden": false
    },
    "pycharm": {
     "name": "#%%\n"
    }
   },
   "outputs": [],
   "source": [
    "# Now that we can cluster students based on the features extracted from the process lables (kind of they all seem to be in the -1 class?)\n",
    "# We can now combine these features with the features extracted by Ylja and link them based on username"
   ]
  },
  {
   "cell_type": "code",
   "execution_count": 13,
   "metadata": {
    "collapsed": false,
    "jupyter": {
     "outputs_hidden": false
    },
    "pycharm": {
     "name": "#%%\n"
    }
   },
   "outputs": [
    {
     "name": "stderr",
     "output_type": "stream",
     "text": [
      "/tmp/ipykernel_2999586/1742521593.py:239: FutureWarning: The default value of regex will change from True to False in a future version.\n",
      "  user_df['Username'] = user_df['Username'].str.replace('.combined.csv','')\n"
     ]
    },
    {
     "data": {
      "image/png": "[encoded data removed]",
      "text/plain": [
       "<Figure size 432x288 with 1 Axes>"
      ]
     },
     "metadata": {
      "needs_background": "light"
     },
     "output_type": "display_data"
    },
    {
     "name": "stdout",
     "output_type": "stream",
     "text": [
      "Class 0 has ['High Percent_time_MC.O.2', 'High Percent_time_HC.EO.3', 'High Percent_time_MC.M.4', 'Low Time_spent_HC.EO.3']\n",
      "Class 1 has ['High Mean_time_LC.F.2', 'High Mean_time_MC.O.4', 'High Mean_time_MC.O.2', 'High Time_spent_LC.F.2']\n",
      "Class 2 has ['High Times_performed_HC.EO.3', 'High Times_performed_LC.R.1', 'Low Percent_time_MC.O.2', 'Low Percent_time_HC.EO.3']\n",
      "{'HC.EO.3': 'Learners write the essay continuously', 'LC.F.2': 'Learners read something new and then nagvigate to next page to continue reading', 'LC.R.1': 'Learners review some relevant learning materials they have been reading before', 'MC.M.4': 'Learners check timer during reading or writing as monitoring the learning time', 'MC.O.2': 'Learners read general instruction and then check the rubir for essay, or the other way round', 'MC.O.4': 'Learners read the general instruction and navigate through pages during reading instruction'}\n"
     ]
    }
   ],
   "source": [
    "from sklearn.cluster import DBSCAN\n",
    "import csv\n",
    "from datetime import datetime\n",
    "# which features will we use? lets set out some cognition features\n",
    "# the two different goodness values can be knowledge gained or score in post-test\n",
    "# lets first take in the process labesl\n",
    "\n",
    "def fix(X):\n",
    "    # making sure the users arent clustered on username\n",
    "    try:\n",
    "        X = X.drop(columns = [\"Username\"])\n",
    "    except:\n",
    "        pass\n",
    "    X = (X-X.mean())/X.std()\n",
    "    # filling the nan values\n",
    "    X = X.fillna(0)\n",
    "    return X\n",
    "\n",
    "def load_process_features_study_f(f):\n",
    "  data = pd.read_csv(BasePath_f + f)\n",
    "\n",
    "  features = {}\n",
    "\n",
    "  features[\"Username\"] = data['Username'][0]\n",
    "\n",
    "  proc_labels = np.unique(np.array(data[\"Process Label\"]))\n",
    "  data[\"Process_Time_Spent\"] = data[\"Process End Time\"] - data[\"Process Start Time\"]\n",
    "  max_time = np.max(data[\"Process End Time\"])\n",
    "  # unsure if we want to keep no pattern because they did do something here\n",
    "  # proc_labels.remove(\"NO_PATTERN\")\n",
    "  for proc in proc_labels:\n",
    "      proc_rows = data[data[\"Process Label\"] == proc]\n",
    "\n",
    "      # feature #1 total time spent on processes\n",
    "      features[(\"Time_spent_\"+proc)] = [(proc_rows[\"Process_Time_Spent\"]/100).sum()]\n",
    "\n",
    "      # feature #2 mean time per session process session\n",
    "      features[(\"Mean_time_\"+proc)] = [(proc_rows[\"Process_Time_Spent\"]/100).mean()]\n",
    "\n",
    "      # feature #3 amount of times they did a process\n",
    "      features[(\"Times_performed_\"+proc)] = [proc_rows[\"Process_Time_Spent\"].count()]\n",
    "\n",
    "      # feature #4 percentage of time spent on a process\n",
    "      features[(\"Percent_time_\"+proc)] = [(proc_rows[\"Process_Time_Spent\"]/100).sum()/max_time]\n",
    " \n",
    "  # return the features as a df\n",
    "  return pd.DataFrame.from_dict(features)\n",
    "\n",
    "\n",
    "def load_process_features_study_3(c_file):\n",
    "  features = {}\n",
    "  cleaned = []\n",
    "  with open(BasePath_3 + c_file, newline='', encoding='utf8') as csvfile:\n",
    "      spamreader = csv.reader(csvfile, delimiter=' ', quotechar='|')\n",
    "      for row in spamreader:\n",
    "          real = (', '.join(row))\n",
    "          if real.count(\",\") == 9:\n",
    "              cleaned.append(np.array(real.split(\",\")))\n",
    "  cleaned = np.array(cleaned)\n",
    "  data = pd.DataFrame(cleaned, columns = [\"logid\", \"actionid\", \"patternid\", \"date\", \"time\",\t\"log_label\", \"action_label\", \"pattern_label\", \"pattern_span\", \"log_value\"])\n",
    "\n",
    "  features[\"Username\"] = c_file.split(\",\")[0]\n",
    "  # creating the time spent column\n",
    "\n",
    "  time = list(data[\"time\"])\n",
    "  time.insert(0, time[0])\n",
    "  time_spent = []\n",
    "  FMT = ' %H:%M:%S'\n",
    "  for i in range(1,len(time)):\n",
    "      tdelta = datetime.strptime(time[i], FMT) - datetime.strptime(time[i-1], FMT)\n",
    "      time_spent.append(tdelta.total_seconds())\n",
    "\n",
    "  data[\"Process_Time_Spent\"] = time_spent\n",
    "  proc_labels = np.unique(np.array(data[\"pattern_label\"]))\n",
    "\n",
    "\n",
    "  max_time = data[\"Process_Time_Spent\"].sum()\n",
    "\n",
    "  proc_labels= list(filter(None, proc_labels))\n",
    "\n",
    "  # unsure if we want to keep no pattern because they did do something here\n",
    "  # proc_labels.remove(\"NO_PATTERN\")\n",
    "\n",
    "  for proc in proc_labels:\n",
    "      proc_rows = data[data[\"pattern_label\"] == proc]\n",
    "\n",
    "      # feature #1 total time spent on processes\n",
    "      features[(\"Time_spent_\"+proc)] = [proc_rows[\"Process_Time_Spent\"].sum()]\n",
    "\n",
    "      # feature #2 mean time per session process session\n",
    "      features[(\"Mean_time_\"+proc)] = [proc_rows[\"Process_Time_Spent\"].mean()]\n",
    "\n",
    "      # feature #3 amount of times they did a process\n",
    "      features[(\"Times_performed_\"+proc)] = [proc_rows[\"Process_Time_Spent\"].count()]\n",
    "\n",
    "      # feature #4 percentage of time spent on a process\n",
    "      features[(\"Percent_time_\"+proc)] = [proc_rows[\"Process_Time_Spent\"].sum()/max_time]\n",
    "\n",
    "  # return the features as a df\n",
    "  return pd.DataFrame.from_dict(features)\n",
    "\n",
    "def cluster(df):\n",
    "  # removing the username from the data if its there and also reducing to the features \n",
    "  # that were requested by the user (boolean map)\n",
    "  df = fix(df)\n",
    "\n",
    "  # df = df.loc[:, features]\n",
    "  # creating labels for the users\n",
    "\n",
    "  # clustering = DBSCAN(eps=7, min_samples=4).fit(X)\n",
    "  # return clustering.labels_\n",
    "\n",
    "  kmeans = KMeans(n_clusters= 3)\n",
    "  clustering = kmeans.fit_predict(df)\n",
    "\n",
    "  return clustering\n",
    "\n",
    "def create_X(user_df, labels):\n",
    "\n",
    "  X = fix(user_df)\n",
    "\n",
    "  labels = pd.DataFrame(labels)\n",
    "\n",
    "  # selecting only the features the users chose\n",
    "  # X = user_df[features_chosen]\n",
    "\n",
    "  #Load Data into pca\n",
    "  pca = PCA(2)\n",
    "\n",
    "  #Transform the data into 2 dimensions\n",
    "  X = pca.fit_transform(X)\n",
    "  X = pd.DataFrame(X)\n",
    "\n",
    "  result = pd.concat([X, labels], axis=1)\n",
    "\n",
    "  result.columns = ['x', 'y', 'label']\n",
    "\n",
    "  return result\n",
    "\n",
    "def plot(X):\n",
    "  u_labels = X['label'].unique()\n",
    "\n",
    "  for i in u_labels:\n",
    "      plt.scatter(X['x'].loc[X['label'] == i],\n",
    "                  X['y'].loc[X['label'] == i],\n",
    "                  label = i)\n",
    "  plt.legend()\n",
    "  plt.show()\n",
    "\n",
    "def important_features(user_df, labels):\n",
    "  # how many imortant features do you want?\n",
    "  num_important = 4\n",
    "\n",
    "  # getting the unique labels of the clusters to see whats important about them\n",
    "  u_labels = np.unique(labels)\n",
    "\n",
    "  # reducing the amount of features to that chosen by the user\n",
    "  df = fix(user_df)\n",
    "  \n",
    "  # creating the averages for each features and each label to compare them\n",
    "  avgs = pd.DataFrame(columns = df.columns)\n",
    "  avgs_abs = pd.DataFrame(columns = df.columns)\n",
    "  avgs.loc[0] = list(df.mean(axis=0))\n",
    "  important_features_lst = []\n",
    "\n",
    "  # appending in the df the averages for each label of each feature\n",
    "  for i in u_labels:\n",
    "    label_avg = list(df[labels == i].mean(axis=0))\n",
    "    avgs.loc[i + 1] = label_avg\n",
    "\n",
    "    # finding which class features have the highest difference from the mean\n",
    "    avgs_abs.loc[i] = np.abs(avgs.loc[0] - avgs.loc[i + 1])\n",
    "    important = np.array(avgs_abs.loc[i]).argsort()[-num_important:][::-1]\n",
    "\n",
    "    feature_list = []\n",
    "    for feature in important:\n",
    "      if avgs.iloc[i + 1, feature] > 0:\n",
    "        feature_list.append((\"High \"+str(avgs.columns[feature])))\n",
    "      else:\n",
    "        feature_list.append((\"Low \"+str(avgs.columns[feature])))\n",
    "    important_features_lst.append(feature_list)\n",
    "  \n",
    "  for i in range(len(important_features_lst)):\n",
    "    print(\"Class\",i,\"has\",important_features_lst[i])\n",
    "\n",
    "  # alternatively to printing we make a list:\n",
    "  return important_features_lst\n",
    "\n",
    "def explain(important_features_lst):\n",
    "  explain_df = pd.read_csv(r\"data/label_names.csv\")\n",
    "  features = np.array(important_features_lst).flatten()\n",
    "  iso_features = []\n",
    "  [iso_features.append(f.split(\"_\")[-1]) for f in features]\n",
    "  iso_features = np.unique(np.array(iso_features))\n",
    "\n",
    "  explained = {}\n",
    "  for f in iso_features:\n",
    "    try:\n",
    "      out =  explain_df[explain_df[\"Pattern No.\"] == f].iloc[:, 2]\n",
    "      explained[f] = out.iloc[0]\n",
    "    except:\n",
    "      continue\n",
    "  print(explained)\n",
    "\n",
    "def reduce_df(user_df, features_chosen):\n",
    "  columns = list(user_df.columns)\n",
    "  remaining = np.zeros(len(columns))\n",
    "  remaining[0] = 1\n",
    "  for feature in features_chosen:\n",
    "    keep = [col.split(\"_\")[-1] == feature for col in columns]\n",
    "    remaining = remaining + keep\n",
    "  reduced = user_df.loc[:, remaining.astype(bool)]\n",
    "  return reduced\n",
    "\n",
    "# ==================== main\n",
    "users = []\n",
    "\n",
    "BasePath_3 = r\"data/flora Data/Study 3/\"\n",
    "files_3 = os.listdir(BasePath_3)\n",
    "\n",
    "# getting the combined files\n",
    "combined_files = []\n",
    "for x in files_3:\n",
    "    if \"combined.csv\" in x:\n",
    "        combined_files.append(x)\n",
    "\n",
    "BasePath_f = r\"data/Future/Process label/\"\n",
    "files_f = os.listdir(BasePath_f)\n",
    "for f in files_f:\n",
    "  users.append(load_process_features_study_f(f))\n",
    "\n",
    "for c_file in combined_files:\n",
    "  users.append(load_process_features_study_3(c_file))\n",
    "\n",
    "user_df = pd.concat(users)\n",
    "\n",
    "# print(list(user_df.columns))\n",
    "\n",
    "user_df['Username'] = user_df['Username'].str.replace('.combined.csv','')\n",
    "\n",
    "# here i set all features to be chosen for clustering in future this should be chosen by user\n",
    "features_chosen = pd.read_csv(r\"data/label_names.csv\")\n",
    "features_chosen = list(features_chosen[\"Pattern No.\"])\n",
    "\n",
    "reduced_df = reduce_df(user_df, features_chosen)\n",
    "\n",
    "labels = cluster(reduced_df)\n",
    "X = create_X(reduced_df, labels)\n",
    "plot(X)\n",
    "\n",
    "# here i make a list where the index is the class and the contents is a list of what each class is distinctive at\n",
    "important_features_lst = important_features(reduced_df, labels)\n",
    "\n",
    "# making a dictionary that explains each pattern label\n",
    "features_explained = explain(important_features_lst)\n"
   ]
  },
  {
   "cell_type": "code",
   "execution_count": null,
   "metadata": {},
   "outputs": [],
   "source": [
    "user_df = user_df.reset_index(drop=True) # Reset index to work with concat\n",
    "\n",
    "result_df = pd.concat([X, user_df['Username']], axis=1)\n",
    "result_df.rename(columns={\"Username\": \"username\"}, inplace=True)\n",
    "\n",
    "result_df.head()"
   ]
  },
  {
   "cell_type": "code",
   "execution_count": null,
   "metadata": {
    "collapsed": false,
    "jupyter": {
     "outputs_hidden": false
    },
    "pycharm": {
     "name": "#%%\n"
    }
   },
   "outputs": [],
   "source": [
    "# d = (X.groupby('labels')\n",
    "#      .apply(lambda x: dict(zip(x['X'],x['y'])))\n",
    "#      .to_dict())\n",
    "\n",
    "result = dict()\n",
    "for label in sorted(result_df['label'].unique()):\n",
    "     label = int(label)\n",
    "\n",
    "     result[label] = {\n",
    "          'users':result_df[result_df['label'] == label].drop(columns=['label']).to_dict(orient=\"records\")\n",
    "     }\n",
    "\n",
    "print(result)"
   ]
  },
  {
   "cell_type": "code",
   "execution_count": null,
   "metadata": {
    "collapsed": false,
    "jupyter": {
     "outputs_hidden": false
    },
    "pycharm": {
     "name": "#%%\n"
    }
   },
   "outputs": [],
   "source": [
    "import json\n",
    "with open('api/result.json', 'w') as fp:\n",
    "    json.dump(result, fp)"
   ]
  },
  {
   "cell_type": "code",
   "execution_count": null,
   "metadata": {},
   "outputs": [],
   "source": []
  }
 ],
 "metadata": {
  "interpreter": {
   "hash": "d2899d0ae941dbc14ef6ec8497108d9bc54ab3d95533fbfc43b41178a815d611"
  },
  "kernelspec": {
   "display_name": "Python 3 (ipykernel)",
   "language": "python",
   "name": "python3"
  },
  "language_info": {
   "codemirror_mode": {
    "name": "ipython",
    "version": 3
   },
   "file_extension": ".py",
   "mimetype": "text/x-python",
   "name": "python",
   "nbconvert_exporter": "python",
   "pygments_lexer": "ipython3",
   "version": "3.8.10"
  }
 },
 "nbformat": 4,
 "nbformat_minor": 4
}
