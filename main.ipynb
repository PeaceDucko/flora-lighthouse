{
 "cells": [
  {
   "cell_type": "code",
   "execution_count": 1,
   "metadata": {},
   "outputs": [],
   "source": [
    "import os\n",
    "import pandas as pd\n",
    "import numpy as np\n",
    "from sklearn.mixture import GaussianMixture\n",
    "from sklearn.model_selection import train_test_split\n",
    "from sklearn.metrics import accuracy_score\n",
    "from sklearn.cluster import KMeans\n",
    "from sklearn.decomposition import PCA\n",
    "import matplotlib.pyplot as plt"
   ]
  },
  {
   "cell_type": "code",
   "execution_count": 2,
   "metadata": {
    "collapsed": false,
    "jupyter": {
     "outputs_hidden": false
    },
    "pycharm": {
     "name": "#%%\n"
    }
   },
   "outputs": [],
   "source": [
    "# BasePath = \"data/Example/\""
   ]
  },
  {
   "cell_type": "code",
   "execution_count": 3,
   "metadata": {
    "collapsed": false,
    "jupyter": {
     "outputs_hidden": false
    },
    "pycharm": {
     "name": "#%%\n"
    }
   },
   "outputs": [],
   "source": [
    "# Files = os.listdir(BasePath)\n",
    "# print(Files)\n",
    "# TestFile = os.listdir(BasePath + Files[1])\n",
    "# print(TestFile)"
   ]
  },
  {
   "cell_type": "code",
   "execution_count": 4,
   "metadata": {
    "collapsed": false,
    "jupyter": {
     "outputs_hidden": false
    },
    "pycharm": {
     "name": "#%%\n"
    }
   },
   "outputs": [],
   "source": [
    "# def clean_data(X, extra_columns = []):\n",
    "#     print(X.head())\n",
    "#     X.drop(X[X['Status'] != 'Beëindigd'].index, inplace = True)\n",
    "#     # Add Gebruikte tijd later again.\n",
    "#     cols = ['E-mailadres', 'Voornaam', 'Achternaam', 'Status', 'Gestart op', 'Voltooid', 'Gebruikte tijd']\n",
    "\n",
    "#     if extra_columns:\n",
    "#         for i in extra_columns:\n",
    "#             cols.append(i)\n",
    "\n",
    "#     X.drop(columns= cols, inplace = True)\n",
    "#     # I hate everything about this line\n",
    "#     X = X.replace(',','.', regex=True).replace('-', '0', regex=True).astype(float).astype(int)\n",
    "#     return X\n",
    "\n",
    "# def group_y(Y, total_options_of_y):\n",
    "#     val = int(total_options_of_y/3)\n",
    "#     print(len(Y))\n",
    "#     print(type(Y))\n",
    "#     for i, y in Y.items():\n",
    "#         if y <= val :\n",
    "#             Y[i] = 0\n",
    "#         elif y >= val and y <= (val*2):\n",
    "#             Y[i] = 1\n",
    "#         elif y >= (val*2):\n",
    "#             Y[i] = 2\n",
    "#     return Y"
   ]
  },
  {
   "cell_type": "code",
   "execution_count": 5,
   "metadata": {
    "collapsed": false,
    "jupyter": {
     "outputs_hidden": false
    },
    "pycharm": {
     "name": "#%%\n"
    }
   },
   "outputs": [],
   "source": [
    "# def split_data(x_data, y_data, test_size):\n",
    "#     X_train, X_test, y_train, y_test = train_test_split(x_data, y_data, test_size=test_size)\n",
    "#     return X_train, X_test, y_train, y_test\n",
    "\n",
    "# def getXY(dataset, exclude):\n",
    "#     X = dataset.drop([exclude], axis=1)\n",
    "#     Y = dataset[exclude]\n",
    "\n",
    "#     return X, Y\n",
    "\n",
    "# def get_accuracy(Model, X, Y):\n",
    "#     predict_list = Model.predict(X)\n",
    "\n",
    "#     accuracy = accuracy_score(Y, predict_list)\n",
    "\n",
    "#     return accuracy, predict_list"
   ]
  },
  {
   "cell_type": "code",
   "execution_count": 6,
   "metadata": {
    "collapsed": false,
    "jupyter": {
     "outputs_hidden": false
    },
    "pycharm": {
     "name": "#%%\n"
    }
   },
   "outputs": [],
   "source": [
    "# Test = pd.read_csv(BasePath + Files[1] + \"/\" + TestFile[0])\n",
    "# print(Test)\n",
    "\n",
    "# # Remove all the nasty data\n",
    "# CleanTest = clean_data(Test)\n",
    "# CleanTest.head(n=2)\n",
    "\n",
    "# # Obtain X and Y to test effectiveness later\n",
    "# #X, y = getXY(CleanTest, \"Cijfer/26,00\")\n",
    "\n",
    "# # print(len(y))\n",
    "# # print(len(X))\n",
    "\n",
    "# #Y = group_y(y, 27)\n",
    "\n",
    "# # print(Y)\n",
    "# # print(len(Y))\n",
    "\n",
    "# # Obtain train Test data\n",
    "# # X_train, X_test, y_train, y_test = split_data(X, Y, 0.2)"
   ]
  },
  {
   "cell_type": "code",
   "execution_count": 7,
   "metadata": {
    "collapsed": false,
    "jupyter": {
     "outputs_hidden": false
    },
    "pycharm": {
     "name": "#%%\n"
    }
   },
   "outputs": [],
   "source": [
    "# gm = GaussianMixture(n_components=3, random_state=0).fit(X)\n",
    "#\n",
    "# acc, predict = get_accuracy(gm, X, Y)\n",
    "# print(acc)"
   ]
  },
  {
   "cell_type": "markdown",
   "metadata": {},
   "source": [
    "## Some Random plotting tests"
   ]
  },
  {
   "cell_type": "code",
   "execution_count": 8,
   "metadata": {
    "collapsed": false,
    "jupyter": {
     "outputs_hidden": false
    },
    "pycharm": {
     "name": "#%%\n"
    }
   },
   "outputs": [],
   "source": [
    "# from sklearn.cluster import KMeans\n",
    "# from sklearn.decomposition import PCA\n",
    "# import matplotlib.pyplot as plt\n",
    "#\n",
    "# #Load Data\n",
    "# pca = PCA(2)\n",
    "#\n",
    "# #Initialize the class object\n",
    "# kmeans = KMeans(n_clusters= 3)\n",
    "#\n",
    "# #predict the labels of clusters.\n",
    "# label = kmeans.fit_predict(X)\n",
    "#\n",
    "# #Transform the data\n",
    "# df = pca.fit_transform(X)\n",
    "#\n",
    "#\n",
    "# #Getting unique labels\n",
    "# u_labels = np.unique(label)\n",
    "#\n",
    "# #plotting the results:\n",
    "# for i in u_labels:\n",
    "#     plt.scatter(df[label == i , 0] , df[label == i , 1] , label = i)\n",
    "# plt.legend()\n",
    "# plt.show()\n",
    "#\n",
    "# # kmeans = KMeans(n_clusters=27, random_state=0).fit(X)\n",
    "#\n",
    "# # acc = get_accuracy(gm, X_test, y_test)"
   ]
  },
  {
   "cell_type": "markdown",
   "metadata": {},
   "source": [
    "## Lucas' Code time for fun and goodness (and maybe clustering based on specific features not from the test scores)\n",
    "\n",
    "### using exclusively the ctrl+c and ctrl+v keys"
   ]
  },
  {
   "cell_type": "code",
   "execution_count": 9,
   "metadata": {
    "collapsed": false,
    "jupyter": {
     "outputs_hidden": false
    },
    "pycharm": {
     "name": "#%%\n"
    }
   },
   "outputs": [],
   "source": [
    "# Now that we can cluster students based on the features extracted from the process lables (kind of they all seem to be in the -1 class?)\n",
    "# We can now combine these features with the features extracted by Ylja and link them based on username"
   ]
  },
  {
   "cell_type": "code",
   "execution_count": 18,
   "metadata": {
    "collapsed": false,
    "jupyter": {
     "outputs_hidden": false
    },
    "pycharm": {
     "name": "#%%\n"
    }
   },
   "outputs": [
    {
     "name": "stderr",
     "output_type": "stream",
     "text": [
      "/tmp/ipykernel_3001912/2533903965.py:239: FutureWarning: The default value of regex will change from True to False in a future version.\n",
      "  user_df['Username'] = user_df['Username'].str.replace('.combined.csv','')\n"
     ]
    },
    {
     "data": {
      "image/png": "[encoded data removed]",
      "text/plain": [
       "<Figure size 432x288 with 1 Axes>"
      ]
     },
     "metadata": {
      "needs_background": "light"
     },
     "output_type": "display_data"
    },
    {
     "name": "stdout",
     "output_type": "stream",
     "text": [
      "Class 0 has ['Low Mean_time_MC.P.3', 'Low Time_spent_MC.P.3', 'Low Mean_time_MC.P.1', 'Low Time_spent_MC.P.1']\n",
      "Class 1 has ['High Mean_time_MC.P.3', 'High Time_spent_MC.P.3', 'Low Times_performed_MC.P.3', 'Low Percent_time_MC.P.3']\n",
      "Class 2 has ['High Mean_time_MC.P.1', 'High Time_spent_MC.P.1', 'Low Times_performed_MC.P.1', 'Low Percent_time_MC.P.1']\n",
      "{'MC.P.1': 'Learners make plan or check plan using planner tool, then navigate to read something', 'MC.P.3': 'Learners open planner tool and make personal plan in the first 15 mins'}\n"
     ]
    }
   ],
   "source": [
    "from sklearn.cluster import DBSCAN\n",
    "import csv\n",
    "from datetime import datetime\n",
    "# which features will we use? lets set out some cognition features\n",
    "# the two different goodness values can be knowledge gained or score in post-test\n",
    "# lets first take in the process labesl\n",
    "\n",
    "def fix(X):\n",
    "    # making sure the users arent clustered on username\n",
    "    try:\n",
    "        X = X.drop(columns = [\"Username\"])\n",
    "    except:\n",
    "        pass\n",
    "    X = (X-X.mean())/X.std()\n",
    "    # filling the nan values\n",
    "    X = X.fillna(0)\n",
    "    return X\n",
    "\n",
    "def load_process_features_study_f(BasePath_f, f):\n",
    "  data = pd.read_csv(BasePath_f + f)\n",
    "\n",
    "  features = {}\n",
    "\n",
    "  features[\"Username\"] = data['Username'][0]\n",
    "\n",
    "  proc_labels = np.unique(np.array(data[\"Process Label\"]))\n",
    "  data[\"Process_Time_Spent\"] = data[\"Process End Time\"] - data[\"Process Start Time\"]\n",
    "  max_time = np.max(data[\"Process End Time\"])\n",
    "  # unsure if we want to keep no pattern because they did do something here\n",
    "  # proc_labels.remove(\"NO_PATTERN\")\n",
    "  for proc in proc_labels:\n",
    "      proc_rows = data[data[\"Process Label\"] == proc]\n",
    "\n",
    "      # feature #1 total time spent on processes\n",
    "      features[(\"Time_spent_\"+proc)] = [(proc_rows[\"Process_Time_Spent\"]/100).sum()]\n",
    "\n",
    "      # feature #2 mean time per session process session\n",
    "      features[(\"Mean_time_\"+proc)] = [(proc_rows[\"Process_Time_Spent\"]/100).mean()]\n",
    "\n",
    "      # feature #3 amount of times they did a process\n",
    "      features[(\"Times_performed_\"+proc)] = [proc_rows[\"Process_Time_Spent\"].count()]\n",
    "\n",
    "      # feature #4 percentage of time spent on a process\n",
    "      features[(\"Percent_time_\"+proc)] = [(proc_rows[\"Process_Time_Spent\"]/100).sum()/max_time]\n",
    " \n",
    "  # return the features as a df\n",
    "  return pd.DataFrame.from_dict(features)\n",
    "\n",
    "\n",
    "def load_process_features_study_3(c_file):\n",
    "  features = {}\n",
    "  cleaned = []\n",
    "  with open(BasePath_3 + c_file, newline='', encoding='utf8') as csvfile:\n",
    "      spamreader = csv.reader(csvfile, delimiter=' ', quotechar='|')\n",
    "      for row in spamreader:\n",
    "          real = (', '.join(row))\n",
    "          if real.count(\",\") == 9:\n",
    "              cleaned.append(np.array(real.split(\",\")))\n",
    "  cleaned = np.array(cleaned)\n",
    "  data = pd.DataFrame(cleaned, columns = [\"logid\", \"actionid\", \"patternid\", \"date\", \"time\",\t\"log_label\", \"action_label\", \"pattern_label\", \"pattern_span\", \"log_value\"])\n",
    "\n",
    "  features[\"Username\"] = c_file.split(\",\")[0]\n",
    "  # creating the time spent column\n",
    "\n",
    "  time = list(data[\"time\"])\n",
    "  time.insert(0, time[0])\n",
    "  time_spent = []\n",
    "  FMT = ' %H:%M:%S'\n",
    "  for i in range(1,len(time)):\n",
    "      tdelta = datetime.strptime(time[i], FMT) - datetime.strptime(time[i-1], FMT)\n",
    "      time_spent.append(tdelta.total_seconds())\n",
    "\n",
    "  data[\"Process_Time_Spent\"] = time_spent\n",
    "  proc_labels = np.unique(np.array(data[\"pattern_label\"]))\n",
    "\n",
    "\n",
    "  max_time = data[\"Process_Time_Spent\"].sum()\n",
    "\n",
    "  proc_labels= list(filter(None, proc_labels))\n",
    "\n",
    "  # unsure if we want to keep no pattern because they did do something here\n",
    "  # proc_labels.remove(\"NO_PATTERN\")\n",
    "\n",
    "  for proc in proc_labels:\n",
    "      proc_rows = data[data[\"pattern_label\"] == proc]\n",
    "\n",
    "      # feature #1 total time spent on processes\n",
    "      features[(\"Time_spent_\"+proc)] = [proc_rows[\"Process_Time_Spent\"].sum()]\n",
    "\n",
    "      # feature #2 mean time per session process session\n",
    "      features[(\"Mean_time_\"+proc)] = [proc_rows[\"Process_Time_Spent\"].mean()]\n",
    "\n",
    "      # feature #3 amount of times they did a process\n",
    "      features[(\"Times_performed_\"+proc)] = [proc_rows[\"Process_Time_Spent\"].count()]\n",
    "\n",
    "      # feature #4 percentage of time spent on a process\n",
    "      features[(\"Percent_time_\"+proc)] = [proc_rows[\"Process_Time_Spent\"].sum()/max_time]\n",
    "\n",
    "  # return the features as a df\n",
    "  return pd.DataFrame.from_dict(features)\n",
    "\n",
    "def cluster(df):\n",
    "  # removing the username from the data if its there and also reducing to the features \n",
    "  # that were requested by the user (boolean map)\n",
    "  df = fix(df)\n",
    "\n",
    "  # df = df.loc[:, features]\n",
    "  # creating labels for the users\n",
    "\n",
    "  # clustering = DBSCAN(eps=7, min_samples=4).fit(X)\n",
    "  # return clustering.labels_\n",
    "\n",
    "  kmeans = KMeans(n_clusters= 3)\n",
    "  clustering = kmeans.fit_predict(df)\n",
    "\n",
    "  return clustering\n",
    "\n",
    "def create_X(user_df, labels):\n",
    "\n",
    "  X = fix(user_df)\n",
    "\n",
    "  labels = pd.DataFrame(labels)\n",
    "\n",
    "  # selecting only the features the users chose\n",
    "  # X = user_df[features_chosen]\n",
    "\n",
    "  #Load Data into pca\n",
    "  pca = PCA(2)\n",
    "\n",
    "  #Transform the data into 2 dimensions\n",
    "  X = pca.fit_transform(X)\n",
    "  X = pd.DataFrame(X)\n",
    "\n",
    "  result = pd.concat([X, labels], axis=1)\n",
    "\n",
    "  result.columns = ['x', 'y', 'label']\n",
    "\n",
    "  return result\n",
    "\n",
    "def plot(X):\n",
    "  u_labels = X['label'].unique()\n",
    "\n",
    "  for i in u_labels:\n",
    "      plt.scatter(X['x'].loc[X['label'] == i],\n",
    "                  X['y'].loc[X['label'] == i],\n",
    "                  label = i)\n",
    "  plt.legend()\n",
    "  plt.show()\n",
    "\n",
    "def important_features(user_df, labels):\n",
    "  # how many imortant features do you want?\n",
    "  num_important = 4\n",
    "\n",
    "  # getting the unique labels of the clusters to see whats important about them\n",
    "  u_labels = np.unique(labels)\n",
    "\n",
    "  # reducing the amount of features to that chosen by the user\n",
    "  df = fix(user_df)\n",
    "  \n",
    "  # creating the averages for each features and each label to compare them\n",
    "  avgs = pd.DataFrame(columns = df.columns)\n",
    "  avgs_abs = pd.DataFrame(columns = df.columns)\n",
    "  avgs.loc[0] = list(df.mean(axis=0))\n",
    "  important_features_lst = []\n",
    "\n",
    "  # appending in the df the averages for each label of each feature\n",
    "  for i in u_labels:\n",
    "    label_avg = list(df[labels == i].mean(axis=0))\n",
    "    avgs.loc[i + 1] = label_avg\n",
    "\n",
    "    # finding which class features have the highest difference from the mean\n",
    "    avgs_abs.loc[i] = np.abs(avgs.loc[0] - avgs.loc[i + 1])\n",
    "    important = np.array(avgs_abs.loc[i]).argsort()[-num_important:][::-1]\n",
    "\n",
    "    feature_list = []\n",
    "    for feature in important:\n",
    "      if avgs.iloc[i + 1, feature] > 0:\n",
    "        feature_list.append((\"High \"+str(avgs.columns[feature])))\n",
    "      else:\n",
    "        feature_list.append((\"Low \"+str(avgs.columns[feature])))\n",
    "    important_features_lst.append(feature_list)\n",
    "  \n",
    "  for i in range(len(important_features_lst)):\n",
    "    print(\"Class\",i,\"has\",important_features_lst[i])\n",
    "\n",
    "  # alternatively to printing we make a list:\n",
    "  return important_features_lst\n",
    "\n",
    "def explain(important_features_lst):\n",
    "  explain_df = pd.read_csv(r\"data/label_names.csv\")\n",
    "  features = np.array(important_features_lst).flatten()\n",
    "  iso_features = []\n",
    "  [iso_features.append(f.split(\"_\")[-1]) for f in features]\n",
    "  iso_features = np.unique(np.array(iso_features))\n",
    "\n",
    "  explained = {}\n",
    "  for f in iso_features:\n",
    "    try:\n",
    "      out =  explain_df[explain_df[\"Pattern No.\"] == f].iloc[:, 2]\n",
    "      explained[f] = out.iloc[0]\n",
    "    except:\n",
    "      continue\n",
    "  print(explained)\n",
    "\n",
    "def reduce_df(user_df, features_chosen):\n",
    "  columns = list(user_df.columns)\n",
    "  remaining = np.zeros(len(columns))\n",
    "  remaining[0] = 1\n",
    "  for feature in features_chosen:\n",
    "    keep = [col.split(\"_\")[-1] == feature for col in columns]\n",
    "    remaining = remaining + keep\n",
    "  reduced = user_df.loc[:, remaining.astype(bool)]\n",
    "  return reduced\n",
    "\n",
    "# ==================== main\n",
    "users = []\n",
    "\n",
    "BasePath_3 = r\"data/flora Data/Study 3/\"\n",
    "files_3 = os.listdir(BasePath_3)\n",
    "\n",
    "# getting the combined files\n",
    "combined_files = []\n",
    "for x in files_3:\n",
    "    if \"combined.csv\" in x:\n",
    "        combined_files.append(x)\n",
    "\n",
    "BasePath_f = r\"data/Future/Process label/\"\n",
    "files_f = os.listdir(BasePath_f)\n",
    "for f in files_f:\n",
    "  users.append(load_process_features_study_f(BasePath_f, f))\n",
    "\n",
    "for c_file in combined_files:\n",
    "  users.append(load_process_features_study_3(c_file))\n",
    "\n",
    "user_df = pd.concat(users)\n",
    "\n",
    "# print(list(user_df.columns))\n",
    "\n",
    "user_df['Username'] = user_df['Username'].str.replace('.combined.csv','')\n",
    "\n",
    "# here i set all features to be chosen for clustering in future this should be chosen by user\n",
    "features_chosen = pd.read_csv(r\"data/label_names.csv\")\n",
    "features_chosen = list(features_chosen[\"Pattern No.\"])\n",
    "\n",
    "features_chosen = features_chosen[4:7]\n",
    "\n",
    "reduced_df = reduce_df(user_df, features_chosen)\n",
    "\n",
    "labels = cluster(reduced_df)\n",
    "X = create_X(reduced_df, labels)\n",
    "plot(X)\n",
    "\n",
    "# here i make a list where the index is the class and the contents is a list of what each class is distinctive at\n",
    "important_features_lst = important_features(reduced_df, labels)\n",
    "\n",
    "# making a dictionary that explains each pattern label\n",
    "features_explained = explain(important_features_lst)\n"
   ]
  },
  {
   "cell_type": "code",
   "execution_count": 11,
   "metadata": {},
   "outputs": [
    {
     "data": {
      "text/html": [
       "<div>\n",
       "<style scoped>\n",
       "    .dataframe tbody tr th:only-of-type {\n",
       "        vertical-align: middle;\n",
       "    }\n",
       "\n",
       "    .dataframe tbody tr th {\n",
       "        vertical-align: top;\n",
       "    }\n",
       "\n",
       "    .dataframe thead th {\n",
       "        text-align: right;\n",
       "    }\n",
       "</style>\n",
       "<table border=\"1\" class=\"dataframe\">\n",
       "  <thead>\n",
       "    <tr style=\"text-align: right;\">\n",
       "      <th></th>\n",
       "      <th>x</th>\n",
       "      <th>y</th>\n",
       "      <th>label</th>\n",
       "      <th>username</th>\n",
       "    </tr>\n",
       "  </thead>\n",
       "  <tbody>\n",
       "    <tr>\n",
       "      <th>0</th>\n",
       "      <td>2.641315</td>\n",
       "      <td>-1.300373</td>\n",
       "      <td>2</td>\n",
       "      <td>fsh1_123</td>\n",
       "    </tr>\n",
       "    <tr>\n",
       "      <th>1</th>\n",
       "      <td>5.036688</td>\n",
       "      <td>-2.320394</td>\n",
       "      <td>2</td>\n",
       "      <td>fsh1_131</td>\n",
       "    </tr>\n",
       "    <tr>\n",
       "      <th>2</th>\n",
       "      <td>4.833434</td>\n",
       "      <td>-1.688883</td>\n",
       "      <td>2</td>\n",
       "      <td>fsp4_221</td>\n",
       "    </tr>\n",
       "    <tr>\n",
       "      <th>3</th>\n",
       "      <td>6.106695</td>\n",
       "      <td>-2.809732</td>\n",
       "      <td>2</td>\n",
       "      <td>fsp4_230</td>\n",
       "    </tr>\n",
       "    <tr>\n",
       "      <th>4</th>\n",
       "      <td>4.796203</td>\n",
       "      <td>-2.361823</td>\n",
       "      <td>2</td>\n",
       "      <td>fsh1_111</td>\n",
       "    </tr>\n",
       "  </tbody>\n",
       "</table>\n",
       "</div>"
      ],
      "text/plain": [
       "          x         y  label  username\n",
       "0  2.641315 -1.300373      2  fsh1_123\n",
       "1  5.036688 -2.320394      2  fsh1_131\n",
       "2  4.833434 -1.688883      2  fsp4_221\n",
       "3  6.106695 -2.809732      2  fsp4_230\n",
       "4  4.796203 -2.361823      2  fsh1_111"
      ]
     },
     "execution_count": 11,
     "metadata": {},
     "output_type": "execute_result"
    }
   ],
   "source": [
    "user_df = user_df.reset_index(drop=True) # Reset index to work with concat\n",
    "\n",
    "result_df = pd.concat([X, user_df['Username']], axis=1)\n",
    "result_df.rename(columns={\"Username\": \"username\"}, inplace=True)\n",
    "\n",
    "result_df.head()"
   ]
  },
  {
   "cell_type": "code",
   "execution_count": 12,
   "metadata": {
    "collapsed": false,
    "jupyter": {
     "outputs_hidden": false
    },
    "pycharm": {
     "name": "#%%\n"
    }
   },
   "outputs": [
    {
     "name": "stdout",
     "output_type": "stream",
     "text": [
      "{0: {'users': [{'x': -0.10245793032445201, 'y': -0.31251073966823595, 'username': 'fsh1_124'}, {'x': -2.0913961633269245, 'y': -1.545371013436354, 'username': 'fsc3_025'}, {'x': -2.417635959330036, 'y': -1.3316840776337882, 'username': 'fsg3_018'}, {'x': -3.285938931538049, 'y': -1.2266285059543323, 'username': 'fsc3_012'}, {'x': -1.9129435020176144, 'y': 0.09491672931015065, 'username': 'fsg3_016'}, {'x': -3.6986591501123187, 'y': -3.624026383049103, 'username': 'fsc3_013'}, {'x': -2.637200377867896, 'y': -2.0154067376297102, 'username': 'fsg3_012'}, {'x': -3.184312954561815, 'y': -1.7809506872975636, 'username': 'fsg3_027'}, {'x': -2.357864643315784, 'y': -1.203549408519033, 'username': 'fsg3_031'}, {'x': -2.0991371322212715, 'y': -0.9097331952685589, 'username': 'fsg3_017'}, {'x': -0.6944039846010227, 'y': -0.08833459008113147, 'username': 'fsc3_030'}, {'x': -1.3547194251171184, 'y': 1.495766033837449, 'username': 'fsc3_020'}, {'x': -3.194198128601825, 'y': -1.6653253888588644, 'username': 'fsc3_035'}, {'x': -1.1525692539387227, 'y': 1.0996891493298815, 'username': 'fsc3_033'}, {'x': -2.388355816318832, 'y': 1.686432707821543, 'username': 'fsg3_024'}, {'x': -2.1065955804424648, 'y': -0.21660945835566553, 'username': 'fsg3_008'}, {'x': -1.0880533127866767, 'y': 0.5897862070131448, 'username': 'fsg3_019'}, {'x': -2.882810042188996, 'y': -0.2165438920375041, 'username': 'fsc3_036'}, {'x': -3.609728585549615, 'y': -4.252953084628324, 'username': 'fsc3_022'}, {'x': -2.551898133975395, 'y': -0.1524715304159789, 'username': 'fsg3_028'}, {'x': -1.4071455290235841, 'y': 0.41747939498478076, 'username': 'fsg3_023'}, {'x': -3.480121641920648, 'y': -2.5861726704406873, 'username': 'fsg3_025'}, {'x': -2.865911717250829, 'y': 1.0962387291041662, 'username': 'fsg3_021'}, {'x': -1.063899623279854, 'y': -0.45404534932543633, 'username': 'fsc3_014'}, {'x': -1.0367797016599303, 'y': 0.761147258766323, 'username': 'fsc3_027'}, {'x': -1.4537366456212224, 'y': 2.0399379626049967, 'username': 'fsc3_034'}, {'x': -3.015285368046693, 'y': -1.8846535496448624, 'username': 'fsc3_021'}, {'x': -2.280788247456835, 'y': 0.07287903663126896, 'username': 'fsg3_013'}, {'x': -1.4319388181897514, 'y': 0.46433108097346587, 'username': 'fsg3_014'}, {'x': -1.59012560390637, 'y': 1.2519376504366242, 'username': 'fsg3_030'}, {'x': -1.0274532292886114, 'y': 0.5014101161453892, 'username': 'fsc3_018'}, {'x': -1.611124323198521, 'y': 1.6470218075265497, 'username': 'fsc3_016'}, {'x': -2.682960622282996, 'y': 0.1633142152949032, 'username': 'fsg3_032'}, {'x': -2.7237233076147307, 'y': -0.6412881081221543, 'username': 'fsg3_036'}, {'x': -3.1725172556622336, 'y': -1.0077245427925456, 'username': 'fsg3_026'}, {'x': -2.76475965027312, 'y': -2.386842523365752, 'username': 'fsg3_010'}, {'x': -1.7680150010041173, 'y': 0.5017773837788397, 'username': 'fsc3_031'}, {'x': -1.6045048592539408, 'y': 0.7922546385794252, 'username': 'fsc3_037'}, {'x': -2.624592920601931, 'y': 1.0743293901064952, 'username': 'fsg3_006'}, {'x': -2.6819419460081253, 'y': 0.5228525991716434, 'username': 'fsg3_035'}, {'x': -1.9778147408483164, 'y': -0.6846181969708941, 'username': 'fsc3_028'}, {'x': -1.921747834811755, 'y': -0.7915806207167561, 'username': 'fsc3_010'}, {'x': -2.294906182249349, 'y': 1.2330984064973098, 'username': 'fsg3_034'}, {'x': -2.3309132815628426, 'y': -0.7576765459283136, 'username': 'fsg3_029'}, {'x': -0.670931038557806, 'y': 0.4906322993927316, 'username': 'fsc3_024'}, {'x': -2.8089006214975525, 'y': -1.4502157866985197, 'username': 'fsg3_011'}, {'x': -1.5584061137362841, 'y': -0.15676833736812187, 'username': 'fsg3_007'}, {'x': -1.8638387797309774, 'y': 0.828121434415321, 'username': 'fsc3_032'}, {'x': -3.0738301649695616, 'y': 2.0460625622656616, 'username': 'fsc3_019'}, {'x': -1.1255229605175092, 'y': -0.609422910704536, 'username': 'fsc3_011'}, {'x': -2.686826659791183, 'y': -0.7955616470960765, 'username': 'fsg3_022'}, {'x': -1.8536829082649324, 'y': -0.14871947560807242, 'username': 'fsc3_017'}, {'x': -2.4268004554421743, 'y': -1.6894903572853734, 'username': 'fsg3_037'}, {'x': -2.061213369427117, 'y': -0.527156225130737, 'username': 'fsc3_029'}, {'x': -2.0037953684420176, 'y': 1.4379702672095587, 'username': 'fsg3_038'}, {'x': -2.9149789604027605, 'y': -2.4824724896780324, 'username': 'fsg3_020'}, {'x': -1.349632080875759, 'y': -0.1943592698537032, 'username': 'fsc3_026'}, {'x': -2.2587433448716885, 'y': 1.210053247076384, 'username': 'fsg3_009'}, {'x': -2.3704841599760944, 'y': -1.484715960701342, 'username': 'fsg3_005'}, {'x': -2.3762402176656607, 'y': -0.6227419844540587, 'username': 'fsg3_015'}, {'x': -1.7352893841993675, 'y': -0.38076805103312095, 'username': 'fsc3_023'}, {'x': -2.4693288354570777, 'y': -3.0639411146521014, 'username': 'fsc3_038'}]}, 1: {'users': [{'x': 1.2162418605270973, 'y': 4.23372241456007, 'username': 'fsh1_105'}, {'x': 1.8591510283271047, 'y': -0.45932069520211766, 'username': 'fsh1_115'}, {'x': 1.3049345191069848, 'y': 1.5871878740375673, 'username': 'fsh1_127'}, {'x': 1.0039504467113378, 'y': 1.6391996056569493, 'username': 'fsh1_106'}, {'x': 1.0560226234799628, 'y': 1.5691025931248093, 'username': 'fsh1_118'}, {'x': 0.9774833622804204, 'y': 5.497611780840376, 'username': 'fsh1_122'}, {'x': 0.6036170427013524, 'y': 0.829138444370363, 'username': 'fsh1_128'}, {'x': 1.5684743452275345, 'y': 1.5890080539490006, 'username': 'fsh1_104'}, {'x': 1.2944961779140358, 'y': 4.103770673982987, 'username': 'fsh1_119'}, {'x': 1.5349374593388825, 'y': 4.661295177187148, 'username': 'fsh1_101'}, {'x': 1.3820598031480653, 'y': 1.0141226571532858, 'username': 'fsh1_102'}, {'x': 0.9231016997489944, 'y': 0.9570099045194261, 'username': 'fsh1_110'}, {'x': 0.7303142663288866, 'y': 2.3056996884965733, 'username': 'fsh1_113'}, {'x': 1.2028301671253097, 'y': 0.19484054849187965, 'username': 'fsh1_109'}, {'x': 2.5556349792945694, 'y': 1.7148423094070562, 'username': 'fsh2_003'}, {'x': 1.9059410780252222, 'y': 0.48693663655960934, 'username': 'fsh1_126'}, {'x': 2.1810159766870285, 'y': 4.518927063824384, 'username': 'fsh1_108'}, {'x': 1.0285637339616815, 'y': 4.2010653029747385, 'username': 'fsh1_116'}, {'x': 0.8862022046487116, 'y': 2.252388799986023, 'username': 'fsh1_117'}, {'x': 1.1040211419282802, 'y': 1.8171068303528184, 'username': 'fsh1_112'}, {'x': 1.1806753278509219, 'y': 2.790038129836454, 'username': 'fsh1_107'}, {'x': 2.9542905851861216, 'y': 0.7430761033684059, 'username': 'fsh1_120'}, {'x': 2.2500455797372534, 'y': 0.4667286746369206, 'username': 'fsh1_121'}, {'x': 0.2329454688152822, 'y': 1.1579169417519204, 'username': 'fsc3_015'}]}, 2: {'users': [{'x': 2.6413149180280278, 'y': -1.3003726174861086, 'username': 'fsh1_123'}, {'x': 5.036688461893082, 'y': -2.3203940884668905, 'username': 'fsh1_131'}, {'x': 4.833434352768936, 'y': -1.6888830018678005, 'username': 'fsp4_221'}, {'x': 6.10669527475412, 'y': -2.8097316770459044, 'username': 'fsp4_230'}, {'x': 4.796203371358147, 'y': -2.3618232965788426, 'username': 'fsh1_111'}, {'x': 3.8500148206409732, 'y': -1.9130838845059308, 'username': 'fsh1_129'}, {'x': 5.155780747180114, 'y': -1.6934155714845016, 'username': 'fsp4_503'}, {'x': 4.535842274322218, 'y': -2.1863251243973263, 'username': 'fsh1_133'}, {'x': 3.143654134586828, 'y': -1.705282022602544, 'username': 'fsh2_002'}, {'x': 5.186386445798733, 'y': -1.0409668788425963, 'username': 'fsp4_229'}, {'x': 3.441061451225236, 'y': 0.659959075320644, 'username': 'fsp4_232'}, {'x': 3.224989198548983, 'y': -0.7679262972443657, 'username': 'fsh1_130'}, {'x': 6.588244725998639, 'y': -1.0048898519871328, 'username': 'fsp4_228'}, {'x': 4.954776994891768, 'y': -1.5170464723762964, 'username': 'fsp4_219'}, {'x': 7.226268460101948, 'y': -4.553799713660254, 'username': 'fsh1_006'}, {'x': 5.15721406992045, 'y': -1.6405386339971746, 'username': 'fsh2_001'}, {'x': 5.596596896021962, 'y': -1.7654776929226397, 'username': 'fsp4_220'}, {'x': 4.803190042177204, 'y': -0.48952062582712735, 'username': 'fsp4_222'}, {'x': 4.183864726091871, 'y': 0.7677307210744178, 'username': 'fsp4_227'}, {'x': 5.257584866728432, 'y': 1.3275816307261068, 'username': 'fsh1_114'}, {'x': 4.575275371839942, 'y': -0.04361538756306096, 'username': 'fsh1_125'}]}}\n"
     ]
    }
   ],
   "source": [
    "# d = (X.groupby('labels')\n",
    "#      .apply(lambda x: dict(zip(x['X'],x['y'])))\n",
    "#      .to_dict())\n",
    "\n",
    "result = dict()\n",
    "for label in sorted(result_df['label'].unique()):\n",
    "     label = int(label)\n",
    "\n",
    "     result[label] = {\n",
    "          'users':result_df[result_df['label'] == label].drop(columns=['label']).to_dict(orient=\"records\")\n",
    "     }\n",
    "\n",
    "print(result)"
   ]
  },
  {
   "cell_type": "code",
   "execution_count": 13,
   "metadata": {
    "collapsed": false,
    "jupyter": {
     "outputs_hidden": false
    },
    "pycharm": {
     "name": "#%%\n"
    }
   },
   "outputs": [],
   "source": [
    "import json\n",
    "with open('api/result.json', 'w') as fp:\n",
    "    json.dump(result, fp)"
   ]
  },
  {
   "cell_type": "code",
   "execution_count": null,
   "metadata": {},
   "outputs": [],
   "source": []
  }
 ],
 "metadata": {
  "interpreter": {
   "hash": "d2899d0ae941dbc14ef6ec8497108d9bc54ab3d95533fbfc43b41178a815d611"
  },
  "kernelspec": {
   "display_name": "Python 3 (ipykernel)",
   "language": "python",
   "name": "python3"
  },
  "language_info": {
   "codemirror_mode": {
    "name": "ipython",
    "version": 3
   },
   "file_extension": ".py",
   "mimetype": "text/x-python",
   "name": "python",
   "nbconvert_exporter": "python",
   "pygments_lexer": "ipython3",
   "version": "3.8.10"
  }
 },
 "nbformat": 4,
 "nbformat_minor": 4
}
